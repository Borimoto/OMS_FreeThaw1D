{
 "cells": [
  {
   "cell_type": "markdown",
   "metadata": {},
   "source": [
    "# README\n",
    "\n",
    "    - Authors: Niccolò Tubini, Stephan Gruber, Riccardo Rigon\n",
    "    - Licence: this work is licensed under a Creative Commons Attribution-NonCommercial 4.0 International License\n",
    "---\n",
    "    "
   ]
  },
  {
   "cell_type": "markdown",
   "metadata": {},
   "source": [
    "## Before starting\n",
    "\n",
    "The input and output are handled with Python. We suggest to use Anaconda to install Python and all the required packages. In order to facilitate the installation we provide a [Conda environment](https://docs.conda.io/projects/conda/en/latest/user-guide/concepts/environments.html) containg all the required packages. The _geoframe_vicenza.yaml_ file can be found in this folder.\n",
    "\n",
    "After having installed [Anconda](https://www.anaconda.com/products/individual) the Conda environment can be created following these steps:\n",
    "- open Anaconda prompt\n",
    "- set in the folder containing the file *geoframe_vicenza.yaml*\n",
    "-  `conda env create -f geoframe_vicenza.yaml`\n",
    "-  `conda activate geoframe_vicenza`\n",
    "\n",
    "The output are stored in [NetCDF](https://en.wikipedia.org/wiki/NetCDF). [Here](https://towardsdatascience.com/handling-netcdf-files-using-xarray-for-absolute-beginners-111a8ab4463f) an introduction on how to read a NetCDF file using the python library [xarray](http://xarray.pydata.org/en/stable/).\n",
    "\n",
    "## Documentation\n",
    "\n",
    "**00_FrozenSoil1D** contains the documentation of this project \n",
    "\n",
    "## Project folder structure\n",
    "More details can be found in ....\n",
    "\n",
    "- **data**\n",
    "    contains input data\n",
    "    \n",
    "    - **/Grid_NetCDF**: NetCDF files containing the grid data (geometry, initial condition, and parameters) to provide as input for your simulation. \n",
    "\n",
    "    - **/Grid_input**: .csv files containing the data required to define the grid. These files are input file for notebooks **Jupyter_Notebook/1_Computational_grid.ipynb**.\n",
    "\n",
    "    - **/Timeseries**: .csv file containing the timeseries used for the boundary conditions. These files have to be formatted accordingly to the OMS format. The notebook **Jupyter_Notebook/1_Timeseries.ipynb** shows how to use the geoframe_vicenza package to save a timeseries.\n",
    "\n",
    "    \n",
    "- **Jupyter_Notebook**\n",
    "    contains the notebooks for pre-processing and post-processing\n",
    "\n",
    "- **lib**\n",
    "    contains .jar file to run the simulations\n",
    "    \n",
    "- **docs**\n",
    "    contains a brief documentation of this OMS project\n",
    "    \n",
    "- **output**\n",
    "    contains the output of the simulations\n",
    "    \n",
    "- **simulation**\n",
    "    contains the `.sim` file\n",
    "   "
   ]
  },
  {
   "cell_type": "code",
   "execution_count": null,
   "metadata": {},
   "outputs": [],
   "source": []
  },
  {
   "cell_type": "code",
   "execution_count": null,
   "metadata": {},
   "outputs": [],
   "source": []
  }
 ],
 "metadata": {
  "kernelspec": {
   "display_name": "Python 3",
   "language": "python",
   "name": "python3"
  },
  "language_info": {
   "codemirror_mode": {
    "name": "ipython",
    "version": 3
   },
   "file_extension": ".py",
   "mimetype": "text/x-python",
   "name": "python",
   "nbconvert_exporter": "python",
   "pygments_lexer": "ipython3",
   "version": "3.7.7"
  }
 },
 "nbformat": 4,
 "nbformat_minor": 2
}
