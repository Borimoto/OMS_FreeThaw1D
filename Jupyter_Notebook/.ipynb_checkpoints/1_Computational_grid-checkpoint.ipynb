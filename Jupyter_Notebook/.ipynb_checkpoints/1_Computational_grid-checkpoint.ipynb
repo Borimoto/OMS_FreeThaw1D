{
 "cells": [
  {
   "cell_type": "markdown",
   "metadata": {},
   "source": [
    "# Create the grid for FreThaw1D model\n",
    "    -Author: Niccolò Tubini, Stephan Gruber, Riccardo Rigon\n",
    "    -License: this work is licensed under a Creative Commons Attribution-NonCommercial 4.0 International License\n",
    "-----\n",
    "This code allows to create a mesh for 1D PDE problem:\n",
    "    - domain discretization\n",
    "    - setting parameters\n",
    "    - setting initial condition\n",
    "    \n",
    "All output data are stored in a NetCDF file.\n",
    "This file is one of the input file of your simulation.\n"
   ]
  },
  {
   "cell_type": "code",
   "execution_count": 1,
   "metadata": {},
   "outputs": [],
   "source": [
    "%load_ext autoreload\n",
    "%autoreload 2\n",
    "\n",
    "from FreThaw1D_gridcreator import*\n",
    "import os\n",
    "import pandas as pd\n",
    "\n",
    "import warnings\n",
    "warnings.filterwarnings('ignore')\n"
   ]
  },
  {
   "cell_type": "markdown",
   "metadata": {},
   "source": [
    "\n",
    "## Define some variables:\n",
    "`grid_input_file_name`: name of the grid input file (.csv) with the local file path -> /data/Grid_input/name.csv\n",
    "\n",
    "`ic_input_file_name`: name of the initial condition input file (.csv) with the local file path -> /data/Grid_input/name.csv\n",
    "\n",
    "`parameter_input_file_name`: name of the parameter input file (.csv) with the local file path -> /data/Grid_input/name.csv\n",
    "\n",
    "`output_file_name`: name of the output file (.nc) with the local file path ->  /data/Grid_NetCDF/name.nc\n",
    "\n",
    "`output_title`: string containing a title for the output, it is saved within the file\n",
    "\n",
    "`output_summary`: string containing a description for the output, it is saved within the file (global metadata)\n",
    "\n",
    "`output_date`: string containing the date of file creation, optionally\n",
    "\n",
    "`output_institution`: string containing the name of whom created the file, optionally\n",
    "\n",
    "`dz_min`: thickness of the first layer\n",
    "\n",
    "`b` growth rate\n",
    "\n",
    "`interp_mdoe`: string defining the type of the 1D interpolation function used to define the initial condition \n",
    "\n",
    "`grid_type`: string defining how to discretize the 1D domain"
   ]
  },
  {
   "cell_type": "code",
   "execution_count": 20,
   "metadata": {},
   "outputs": [],
   "source": [
    "project_path = \"C:\\\\Users\\\\Niccolo\\\\OMS\\\\OMS_Project_FreThaw1D\"\n",
    "\n",
    "grid_input_file_name = project_path + \"/data/Grid_input/ThermalOffset_grid.csv\"\n",
    "\n",
    "ic_input_file_name = project_path + \"/data/Grid_input/ThermalOffset_ic.csv\"\n",
    "\n",
    "parameter_input_file_name = project_path + \"/data/Grid_input/ThermalOffset_parameter.csv\"\n",
    "\n",
    "output_file_name =   project_path + \"/data/Grid_NetCDF/ThermalOffset_dzmin_005_b_1.nc\"\n",
    "\n",
    "\n",
    "output_title = '''\n",
    "                  '''\n",
    "output_summary = '''\n",
    " Input grid for the thermal offset synthetic experiment. Initial condition 270.15 [K]. \n",
    " The domain is descritized using an exponential function dz_i = dz_min(1+b)^(i-1)\n",
    " dz_min = 0.005 [m] and b = 0.1 [-].\n",
    "'''\n",
    "\n",
    "output_date = ''\n",
    "\n",
    "output_institution = ''\n",
    "\n",
    "dz_min = 0.005\n",
    "b = 0.1\n",
    "\n",
    "grid_type = 'exponential' #'classical' # 'exponential'\n",
    "interp_model = \"linear\""
   ]
  },
  {
   "cell_type": "markdown",
   "metadata": {},
   "source": [
    "## Constant grid"
   ]
  },
  {
   "cell_type": "code",
   "execution_count": 21,
   "metadata": {},
   "outputs": [
    {
     "name": "stdout",
     "output_type": "stream",
     "text": [
      "  Type  eta   K  IC  rheologyID  parameterID\n",
      "0    L    0 NaN NaN         0.0          0.0\n",
      "1    L  -20 NaN NaN         NaN          NaN\n",
      "    eta      T0\n",
      "0   0.0  270.15\n",
      "1 -20.0  270.15\n",
      "\n",
      "   spDensity  spConductivity  spSpecificHeatCapacity  thetaS  thetaR  \\\n",
      "0       2700             3.0                    1000    0.46     0.1   \n",
      "\n",
      "   meltingT  par1  par2  par3  par4  \n",
      "0    273.15   1.5   1.2   NaN   NaN  \n",
      "\n",
      "\n",
      "***SUCCESS writing!  C:\\Users\\Niccolo\\OMS\\OMS_Project_FreThaw1D/data/Grid_NetCDF/ThermalOffset_dzmin_005_b_1.nc\n"
     ]
    }
   ],
   "source": [
    "data_grid = pd.read_csv(grid_input_file_name)\n",
    "print(data_grid)\n",
    "\n",
    "data_ic = pd.read_csv(ic_input_file_name)\n",
    "print(data_ic)\n",
    "\n",
    "data_parameter = pd.read_csv(parameter_input_file_name, comment='#')\n",
    "print()\n",
    "print(data_parameter)\n",
    "\n",
    "[KMAX, eta, eta_dual, space_delta, z, z_dual, control_volume]=grid1D(data_grid,dz_min,b,grid_type)\n",
    "\n",
    "ic = set_initial_condition(data_ic, eta, interp_model)\n",
    "\n",
    "[rheology_ID, parameter_ID, soil_particles_density, thermal_conductivity_soil_particles, specific_thermal_capacity_soil_particles, theta_s, theta_r,\n",
    " melting_temperature, par_1, par_2, par_3, par_4] = set_parameters(data_grid, data_parameter, KMAX, eta)\n",
    "\n",
    "write_grid_netCDF(eta, eta_dual, z, z_dual, space_delta, control_volume, ic, rheology_ID, parameter_ID, KMAX,\n",
    "                  soil_particles_density, thermal_conductivity_soil_particles, specific_thermal_capacity_soil_particles,\n",
    "                  theta_s, theta_r, melting_temperature, par_1, par_2, par_3, par_4,\n",
    "                  output_file_name, output_title, output_institution, output_summary, output_date, grid_input_file_name, parameter_input_file_name)"
   ]
  },
  {
   "cell_type": "code",
   "execution_count": null,
   "metadata": {},
   "outputs": [],
   "source": []
  }
 ],
 "metadata": {
  "kernelspec": {
   "display_name": "Python 3",
   "language": "python",
   "name": "python3"
  },
  "language_info": {
   "codemirror_mode": {
    "name": "ipython",
    "version": 3
   },
   "file_extension": ".py",
   "mimetype": "text/x-python",
   "name": "python",
   "nbconvert_exporter": "python",
   "pygments_lexer": "ipython3",
   "version": "3.7.7"
  }
 },
 "nbformat": 4,
 "nbformat_minor": 2
}
