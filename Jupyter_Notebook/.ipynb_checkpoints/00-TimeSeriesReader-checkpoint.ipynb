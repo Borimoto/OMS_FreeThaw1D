{
 "cells": [
  {
   "cell_type": "markdown",
   "metadata": {},
   "source": [
    "# This is a Notebook to document 1D heat transfer model including phase change v 0.98"
   ]
  },
  {
   "cell_type": "markdown",
   "metadata": {},
   "source": [
    "Author: [Niccolò Tubini](link) \n",
    "\n",
    "Documentation Author: [Niccolò Tubini] (link) [Riccardo Rigon](https://abouthydrology.blogspot.com/2014/09/my-cv.html)\n",
    "\n",
    "To whom address questions: \n",
    " - [Niccolò Tubini] \n",
    " - [GEOframe Users Group](https://groups.google.com/forum/#!forum/geoframe-components-users)\n",
    " - [GEOframe Developers Mailing List](https://groups.google.com/forum/#!forum/geoframe-components-developers)"
   ]
  },
  {
   "cell_type": "markdown",
   "metadata": {},
   "source": [
    "## Abstract"
   ]
  },
  {
   "cell_type": "markdown",
   "metadata": {},
   "source": [
    "This notebook documents the [GEOframe](https://abouthydrology.blogspot.com/2015/03/jgrass-newage-essentials.html) component [`Prospero`](https://github.com/geoframecomponents/ETP/tree/master/src/main/java/prospero) which is intented to estimate evaporation from canopies at point and catchment scale. As a GEOframe component is some Earth Science solution coded Java according to the[OMS v3](https://abouthydrology.blogspot.com/2017/08/oms-3-essentials.html) rules. Prospero is part of a larger set of components which are intended to estimate Evapotranspirantion with different data requirement, including [Priestley Taylor formula](https://en.wikipedia.org/wiki/Penman%E2%80%93Monteith_equation) and the [FAO version of the Penman-Monteith equation](http://www.fao.org/3/X0490E/x0490e04.htm#TopOfPage). These are collected at [Github/Geoframecomponents](https://github.com/geoframecomponents/ETP) and were coded mainly by [Marialaura Bancheri](https://scholar.google.com/citations?user=HUQ60uMAAAAJ&hl=en) and eventually revised by Michele  Bottazzi. \n",
    "`Prospero`'s formulas derive from the assumption that vegetation does not have great thermal capacity and the its energy budget can be simplified accordingly neglecting energy storage. Besides it use the  traditional formulation for vapor and thermal energy transport by turbulence that is encoded in the [Dalton's law of evapotranspiration](https://geoframe.blogspot.com/2020/01/evaporation-and-transpiration.html) and the similar law for thermal energy transport. As in the Penman-Monteith (PM) derivation the independent variables are the temperature of the evaporating surface, $T_{surface}$, the water vapor  pressure in air, $e_a$, the transpiration rate, $E_T$ and the thermal energy transfer $H$. To get a fourth equation, as in the Penman-Monteith treatment, the [Clausius-Clapeyron relation](https://en.wikipedia.org/wiki/Clausius%E2%80%93Clapeyron_relation) is used in a linearized form. However, two changes are made with respect to (PM):  1- It is accounted that leaves can transpire, either from one side or from two sides, according to vegetation species,  while heat exchange happens from both the sides of a leaf; 2 - `Propero` accounts for the the radiative coupling of the evaporating surface with the radiation budget through a proper linearization of the [Stephan-Boltzman law](https://en.wikipedia.org/wiki/Stefan%E2%80%93Boltzmann_law). The latter two aspects are taken form a recent [paper by S. Schymanski and D. Or](https://www.research-collection.ethz.ch/handle/20.500.11850/128573) and  they are present, yet in a different way,  in the [G. Bonan (2019) book](https://www.amazon.com/dp/1107619076?tag=duc01-21&linkCode=osi&th=1&psc=1). Extension from leaf to canopies is present in Prospero through a two leaf approach, where the canopy is subdivided in layers exposed to direct sunlight and layers in shadow. \n",
    "The formulation follows a traditional conductance/resistence model. However `Prospero` informatics was designed for inclusion of various approaches to estimanting the conductance by simple addition of a correspondent Java class (the software design  is closed to modification but open to extensions). At present only a Jarvis type of approach is implemented where environmental variables like temperature, photosyntetically active radiation, water availability in soil and vapour deficit are those that decrements transpiration [Michele Bottazzi Ph.D, thesis, Chapter 3](https://abouthydrology.blogspot.com/2020/07/michele-bottazzi-phd-thesis.html). A Ball-Berry type of transpiration and other formulations of transpiration reduction are under implementation. The maximum of stomata conductance is estimated by means of the procedure suggested by Schymanski (MISSING CITATION). The Prospero  component is assumed to work with the short wave and long wave components of GEOframe at hourly scale. These are docuemnted in (MISSING CITATION). If evaporation data are present, the model can be calibrated with the LUCA and Particle Swarm calibrators, available in OMS v3 (MISSING CITATION)"
   ]
  },
  {
   "cell_type": "markdown",
   "metadata": {},
   "source": [
    "## Visual Abstract"
   ]
  },
  {
   "cell_type": "markdown",
   "metadata": {},
   "source": [
    "Because we like figures, a figure that illustrate your component should be placed here"
   ]
  },
  {
   "cell_type": "markdown",
   "metadata": {},
   "source": [
    "### Keywords"
   ]
  },
  {
   "cell_type": "markdown",
   "metadata": {},
   "source": [
    "Frozen soil, phase change, heat equation, 1D, Java, OMS3, GEOframe, PermafrostNet"
   ]
  },
  {
   "cell_type": "markdown",
   "metadata": {},
   "source": [
    "### Version: 0.1"
   ]
  },
  {
   "cell_type": "markdown",
   "metadata": {},
   "source": [
    "### License:"
   ]
  },
  {
   "cell_type": "markdown",
   "metadata": {},
   "source": [
    " [GPL3 v3](https://www.gnu.org/licenses/gpl-3.0.en.html)"
   ]
  },
  {
   "cell_type": "markdown",
   "metadata": {},
   "source": [
    "# Descriptions for general Audience"
   ]
  },
  {
   "cell_type": "markdown",
   "metadata": {},
   "source": [
    "_N: eventualmente copio la versione definitiva dell'abstract o introduzione del paper_\n",
    "\n",
    "Freezing and thawing of soils affect a wide range of biogeochemical and hydrological [55] processes and interact with engineered structures in cold regions. This foundational importance together with the vast extent of cold regions globally makes the simulation of freezing and thawing soil an important and well-researched topic [40,74,82]. The interest in understanding and anticipating the consequences of permafrost thaw driven by anthropogenic climate change has added additional urgency.\n",
    "\n",
    "Studying frozen soil can be done at different timescales. At short timescale, the latent heat of fusion of water determines a time-lag in the cooling and warming of the soil thus affecting the surface heat fluxes. Studies have shown that proper frozen soil scheme help improve land surface and climate model simulation (Viterbo, Smirnova). \n",
    "On the other hand, permafrost evolution is characterized by a long timescale and its evolution is manly controlled by climate change. Permafrost degradation has significant impact on the ecosystems and on the social and economic life in cold regions (Bao)\n",
    "Therefore, it is desirable to have a numerical model that can efficiently simulate frozen soil at both short timescale and long timescale.\n",
    "At present, a common problem of physical-based frozen soil model concerns the treatment of the nonlinear behavior of the energy and enthalpy as function of temperature, water content and other governing variables. Because of this nonlinearity, the model may fail to compute the correct solution, or a short time step must be chosen leading to an increase of the computational cost.\n",
    "\n",
    "`FreThaw1D` model solves the so called enthalpy - or conservative - formulation. The novelty regards the use of the nested Newton-Casulli-Zanolli (NCZ) algorithm to linearize the nonlinear system resulting from the approximation of the governing equation. Using the enthalpy formulation and the NCZ algorithm the convergence of the solver is guarateed for any time step size. This is a key feature since the integration time step can be choosen accordingly to the time scale of the processes to study, from seconds to days.\n"
   ]
  },
  {
   "cell_type": "markdown",
   "metadata": {},
   "source": [
    "## Executables"
   ]
  },
  {
   "cell_type": "markdown",
   "metadata": {},
   "source": [
    "The latest executable code of this component can be downloaded from: \n",
    " - [Prospero on Github](https://github.com/geoframecomponents/ETP/tree/master/src/main/java/prospero)\n",
    " \n",
    "and compiled following the instructions therein.  A frozen version of the compiled OMS project can be found here (MISSING LINK). The code can be executed in the OMS3 console, which can be download and installed according to the instructions given at: \n",
    " - https://geoframe.blogspot.com/2020/01/the-winter-school-on-geoframe-system-is.html\n",
    " \n",
    " For more general information regarding the use of GEOframe programs and models, please see:\n",
    " - [GEOframe essentials](https://abouthydrology.blogspot.com/2015/03/jgrass-newage-essentials.html)\n",
    " - [GEOframe Winter School](https://geoframe.blogspot.com/2020/01/gsw2020-photos-and-material.html)"
   ]
  },
  {
   "cell_type": "markdown",
   "metadata": {},
   "source": [
    "To run the tests, please follow the instructions on the [Github site](). If one power user wants to compile the code themselves, it can use the appropriate [Gradle](https://gradle.org/) script that guarantees independence from any [IDE](https://en.wikipedia.org/wiki/Integrated_development_environment). "
   ]
  },
  {
   "cell_type": "markdown",
   "metadata": {},
   "source": [
    "## Component Description"
   ]
  },
  {
   "cell_type": "markdown",
   "metadata": {},
   "source": [
    "`FreThaw1D` is written in Java,  works under the [`OMS3`](https://abouthydrology.blogspot.com/2017/08/oms-3-essentials.html)(David et al., 2013) framework and is part of the `GEOframe` system (Formetta et al., 2014, Bancheri, 2017). It was produced as part of the Ph.D. work by Niccolò Tubini.\n",
    "Main reference for understanding its theoretical foundations is the [paper  by NT, SG, RR](???) and the [Ph.D. dissertation by Niccolò Tubini](???) which includes a review of the theory and some applications. \n",
    "\n",
    "To make it run the user must first download the `OMS3` console and learn a little bit of OMS3 (information can be found, for instance, [here](https://geoframe.blogspot.com/2020/01/gws2020-getting-started-with-oms-and.html)). An example project can be found [here](https://osf.io/uxd2q/) together with the appropriate Notebooks documentation. Tools in Python (scripting level) are also provided to treat input and output data. The execution in OMS is driven by `.sim` files and browsing them in the examples discloses most of the information a user can require. It is then clear that the reader who wants to become a user must first go through some steps of self-instruction in using those tools (OMS3, OMS3 console) and understand how sim files work. This is a task to perform once forever in using OMS3/GEOframe tools, and the scope can be worthwhile if you are interested to hydrology. However, the occasional reader can have most of the general information from here below. \n",
    "\n",
    "Evapotranspiration is driven by radiation and therefore `Prospero` requires to run a radiation module whch produces shortwave and longwave downwelling radiation. These modules are well documented theoretically at [Rigon, 2012](https://abouthydrology.blogspot.com/2012/12/solar-radiation-physics-and-geometry.html), while the GEOframe modules where objects of two papers (Formetta et al, 20XX ;Formetta et al. 20FF;). These modules have their own complexity that must be understood, and include two main sources of radiation modulation: the atmosphere with its transmittances (to be calibrated) and the geometry of the terrain altering the energy flux, the angle of view and the shadows due to the topography. (XXXX NOTE: CAN PROSPERO, IN PRINCIPLE, RUN WITH JUST RADIATION INPUTS CONTAINED IN FILES, without elaborating in \"real time\" the radiation ?XXXX). At present, terrain information is derived from a [Digital Elevation Model (DEM)](https://en.wikipedia.org/wiki/Digital_elevation_model) to be processed or from information embedded in an appropriate [shapefile](https://en.wikipedia.org/wiki/Shapefile). \n",
    "\n",
    "Finally there are all the inputs specific to transpiration estimation. "
   ]
  },
  {
   "cell_type": "markdown",
   "metadata": {},
   "source": [
    "## Inputs"
   ]
  },
  {
   "cell_type": "markdown",
   "metadata": {},
   "source": [
    "Inputs of the `FreThaw1D` components can be classified in \n",
    "\n",
    "- Computational grid data\n",
    "- Boundary condition data\n",
    "- Simulation's control parameters\n",
    "\n",
    "\n",
    "XXXX A WARNING: THE INPUT BELOW ARE NOT THE INPUT OF THE PROSPERO COMPONENT BUT THE INPUT OF THE MODELLLING SOLUTION, INCLUSIVE OF THE READER AND THE WRITERS THAT IS CURRENTLY USED BY STUDENTS. THIS CELLS HA TO BE CHANGED ACCORDINGLY. WHAT ARE REALLY THE INPUTS OF THE COMPONENTS ? VECTORS OF DATA ? SINGLE VALUES ? WHAT ELSE ? XXXXX\n",
    "\n",
    "The computational grid data in input include:\n",
    "- The name of the [NetCDF file](https://en.wikipedia.org/wiki/NetCDF) containing the data of the computational grid.\n",
    "\n",
    "The boundary condition data include the names of the files (csv format, [OMS3 format](https://geoframe.blogspot.com/2020/01/gws2020-getting-started-with-oms-and.html)) containing:\n",
    "-  the surface boundary condition, if Dirichlet \\[K\\] if Neumann \\[ W m$^{-2}$\\]\n",
    "-  the bottom boundary condition, if Dirichlet \\[K\\] if Neumann \\[ W m$^{-2}$\\]\n",
    "\n",
    "The Control parameters include \n",
    "\n",
    "for each of the boundary condition data file above:\n",
    "\n",
    "- The id of the location under analysis\n",
    "- The start date of simulation\n",
    "- The end date of simulation\n",
    "- The time step of simulation\n",
    "- The novalue, it is necessary $-9999$.\n",
    "\n",
    "and:\n",
    "\n",
    "- tTimestep\n",
    "- timeDelta\n",
    "- nestedNewton\n",
    "- newtonTolerance\n",
    "- delta\n",
    "- picardIteration\n",
    "- writeFrequency\n",
    "- topBCType\n",
    "- bottomBCType\n",
    "- sfccModel\n",
    "- stateEquationModel\n",
    "- soilThermalConductivityModel\n",
    "- interfaceThermalConductivityModel"
   ]
  },
  {
   "cell_type": "markdown",
   "metadata": {},
   "source": [
    "### Detailed inputs Description"
   ]
  },
  {
   "cell_type": "markdown",
   "metadata": {},
   "source": [
    "####  tTimeStep\n",
    "\n",
    "Type `double`\n",
    "\n",
    "Time step of the boundary condition timeseries \\[ s \\]. \n",
    "\n",
    "####  timeDelta\n",
    "\n",
    "Type `double`\n",
    "\n",
    "Integration time step \\[ s \\]. \n",
    "\n",
    "\n",
    "#### nestedNewton\n",
    "\n",
    "Type `int`\n",
    "\n",
    "Type of the algorithm used to linearized the system of equation. The default value is 1 which corresponds to the nested Newton-Casulli-Zanolli algorithm, 0 corresponds the Newton-Raphson algorithm.\n",
    "\n",
    "#### newtonTolerance\n",
    "\n",
    "Type `double`\n",
    "\n",
    "Tolerance of the algorithm used to linearized the system of equation.  \n",
    "\n",
    "\n",
    "#### delta\n",
    "\n",
    "Type `double`\n",
    "\n",
    "Paramenter used to improve the convergence of the Newton-Raphson algorithm. Defeault value is 1 and correspond to the Newton-Raphson algorithm, if <1 the the so called globally convergent Newton algorithm is used. The range of this value is \\]0,1\\]. This is used only if nestedNewton is set to 0.  \n",
    "\n",
    "#### picardIteration\n",
    "\n",
    "Type `int`\n",
    "\n",
    "Number of Picard iteration that can be used to update the thermal conductivity. This is a semi-impicit method therefore the thermal conductivity is computed with the solution - temperature - of the previous time step. It is worth to underline that this variable does not controll in any manner the convergence of the numerical solution. It could improve the modelization of the thermal conductivity. Range $\\leq$1. \n",
    "\n",
    "#### writeFrequency\n",
    "\n",
    "Type `int`\n",
    "\n",
    "Number of time steps every which the output are saved on the disk. Range $\\leq$1. \n",
    "\n",
    "#### topBCType\n",
    "\n",
    "Type `String`\n",
    "\n",
    "Type of the top boundary condition \\[Top Dirichlet, Top Neumann\\]\n",
    "\n",
    "#### bottomBCType\n",
    "\n",
    "Type `String`\n",
    "\n",
    "Type of the bottom boundary condition \\[Bottom Dirichlet, Bottom Neumann\\]\n",
    "\n",
    "#### sfccModel\n",
    "\n",
    "Type `String`\n",
    "\n",
    "The name of the SFCC model used in the simulation. It is added as attribute in the NetCDF file. \\[DallAmico, Lunardini, McKenzie, None\\]\n",
    "\n",
    "#### stateEquationModel\n",
    "\n",
    "Type `String`\n",
    " \n",
    "The name of the state equation model used in the simulation. For instance one can model the phase change of pure water, or the thermal regime of the ground: the enthalpy fuction - state equation - is different. \\[Water, Lunardini, Soil\\]\n",
    "\n",
    "### soilThermalConductivityModel\n",
    "\n",
    "Type `String`\n",
    "\n",
    "the name of the model used to define the thermal conductivity of the medium. It is added as attribute in the NetCDF file. \\[Johansen, water, Luanrdini\\]\n",
    "\n",
    "#### interfaceThermalConductivityModel\n",
    "\n",
    "Type `String`\n",
    "\n",
    "The name of the model used to evaluate the thermal conductivity at the interface of the adjacent control volumes. \\[Arithmetic mean, max, min, Harmonic mean, Geometric mean\\]\n",
    "\n"
   ]
  },
  {
   "cell_type": "markdown",
   "metadata": {},
   "source": [
    "## Outputs"
   ]
  },
  {
   "cell_type": "markdown",
   "metadata": {},
   "source": [
    "The outputs are save in a NetCDF file. It is possible to choose to save the output in either double-precision or single-precision. To save the output\n",
    "- in double-precision it is necessary to instantiate the component `monodimensionalProblemTimeDependent.WriteNetCDFFreezingThawing1DDouble`\n",
    "- in single-precision it is necessary to instantiate the component `monodimensionalProblemTimeDependent.WriteNetCDFFreezingThawing1DFloat`.\n",
    "\n",
    "The outputs are the file names for the following variables, according to the [OMS3 convention- MISSING LINK](non capisco a quale documento ci si riferisca):\n",
    "\n",
    "- myVariables"
   ]
  },
  {
   "cell_type": "markdown",
   "metadata": {},
   "source": [
    "### Detailed Output description"
   ]
  },
  {
   "cell_type": "markdown",
   "metadata": {},
   "source": [
    "#### myVariables\n",
    "\n",
    "Type: `ArrayList<double[]>`\n",
    "\n",
    "This variable contains all the output of the current time step.  The output are:\n",
    "- temperature [K], \n",
    "- water content [-],\n",
    "- ice content [-],\n",
    "- enthalpy (i.e. internal energy) [J],\n",
    "- error \n",
    "- heat flux through the surface boundary [W m-2]\n",
    "- heat flux through the bottom boundary [W m-2]"
   ]
  },
  {
   "cell_type": "markdown",
   "metadata": {},
   "source": [
    "## Examples"
   ]
  },
  {
   "cell_type": "markdown",
   "metadata": {},
   "source": [
    "The component cannot work alone, to get the input and the output it has to be coupled with reader and writers in a modelling solution. A working, simple example, is given at (MISSING LINK TO AN APPROPRIATE PROJECT WHICH INCLUDES .sim files and, at least one example with the appropriare Notebooks illustrating the inputs and the outputs. I do not know if Github s the appropriate place where to upload it or Zenodo or something else. You have to help me in this "
   ]
  },
  {
   "cell_type": "markdown",
   "metadata": {},
   "source": [
    "Examples can be found in form of Python Notebooks in the directory Notebooks/Jupyter and simulations of the Component Project. Data can be found in .... In particular, notebooks :\n",
    "- Data_Preparation.ipynb shows how to prepare the data for inputs\n",
    "- Data_Output.ipynb illustrates a way to represent the outputs\n",
    "  \n",
    "Simulations files (in the simulation directory):\n",
    "- etc\n",
    "\n",
    "XXX Please fill the missing information when the Project is appropriately uploaded XXXXX"
   ]
  },
  {
   "cell_type": "markdown",
   "metadata": {},
   "source": [
    "# Descriptions for Components Linkers"
   ]
  },
  {
   "cell_type": "markdown",
   "metadata": {},
   "source": [
    "<em> <b>Linkers</b> are users who use the component to provide Modelling Solution, i.e. a working setup \n",
    "of components to perform some task. The information below contains internals of the component that can be accessed only by reading the code."
   ]
  },
  {
   "cell_type": "markdown",
   "metadata": {},
   "source": [
    "### monodimensionalProblemTimeDependent.ReadNetCDFFreezingThawing1D\n",
    "\n",
    "This is the prefix for all the variables i.e. fields below. To obtain the full name you have to join the prefix (with the dots) with the names below.\n",
    "\n",
    "- monodimensionalProblemTimeDependent.ReadNetCDFFreezingThawing1D.  XXXX What exactly is this ? Is the name of the Java class. To which file it corresponds ?XXXXX\n",
    "\n",
    "Please note that in the sim file the component is usually renamed in the `component` section. Thus, you will have component_name.XXXXX\n",
    "\n",
    "\n",
    "#### Fields\n",
    "\n",
    "Inputs:\n",
    "- gridFilename: string defining the path of the file containing the grid data, i.e. geometry, parameters, initial condition. Type `String`\n",
    "\n",
    "Outputs:\n",
    "- z: coordinate of control volume centroids: zero is at the bottom of and positive upward. Type `double[]`\n",
    "\n",
    "- zDual: coordinate of control volume interfaces: zero is at the bottom and positive upward. Type `double[]`\n",
    "\n",
    "- eta: coordinate of control volume centroids: zero is at the top and positive upward. Type `double[]`\n",
    "\n",
    "- etaDual: coordinate of control volume interfaces: zero is at the bottom and positive upward. Type `double[]`\n",
    "\n",
    "- temperatureIC: initial condition for temperature. Type `double[]`\n",
    "\n",
    "- spaceDelta: distance between consecutive controids. It is used to compute gradients. Type `double[]`\n",
    "\n",
    "- controlVolumeDimension: dimension of the control volume. It is used to integrate enthalpy function. Type `double[]`\n",
    "\n",
    "- rheologyID: label used to define the rheology model of each control volume. Type `int[]`\n",
    "\n",
    "- parameterID: label used to define the set of parameter to be used for each control volume. Type `int[]`\n",
    "\n",
    "- soilParticlesDensity: values of the density of the soil particles [kg m-3]. Type `double[]`\n",
    "\n",
    "- soilParticlesThermalConductivity: values of the thermal conductivity of the soil particles [W m-2 K-1]. Type `double[]`\n",
    "\n",
    "- soilParticlesSpecificHeatCapacity: values of the specific heat capacity of the soil particles [J kg-1 m-3]. Type `double[]`\n",
    "\n",
    "- thetaS: values of the soil water content at saturation [-]. Type `double[]`\n",
    "\n",
    "- thetaR: values of the residual soil water content  [-]. Type `double[]`\n",
    "\n",
    "- meltingTemperature: melting temperature [K]. Type `double[]`\n",
    "\n",
    "- par1: SFCC parameter 1. This depends on the SFCC used, look at the documentation [-]. Type `double[]`\n",
    "\n",
    "- par2: SFCC parameter 2. This depends on the SFCC used, look at the documentation [-]. Type `double[]`\n",
    "\n",
    "- par3: SFCC parameter 3. This depends on the SFCC used, look at the documentation [-]. Type `double[]`\n",
    "\n",
    "- par4: SFCC parameter 4. This depends on the SFCC used, look at the documentation [-]. Type `double[]`"
   ]
  },
  {
   "cell_type": "markdown",
   "metadata": {},
   "source": [
    "### solver1D.CallFreezingThawingSolver\n",
    "\n",
    "This is the prefix for all the variables i.e. fields below. To obtain the full name you have to join the prefix (with the dots) with the names below.\n",
    "\n",
    "- solver1D.CallFreezingThawingSolver.  XXXX What exactly is this ? Is the name of the Java class. To which file it corresponds ?XXXXX\n",
    "\n",
    "Please note that in the sim file the component is usually renamed in the `component` section. Thus, you will have component_name.XXXXX\n",
    "\n",
    "\n",
    "#### Fields\n",
    "\n",
    "Inputs:\n",
    "\n",
    "- z: coordinate of control volume centroids: zero is at the bottom of and positive upward. Type `double[]`. \n",
    "(From monodimensionalProblemTimeDependent.ReadNetCDFFreezingThawing1D)\n",
    "\n",
    "\n",
    "- zDual: coordinate of control volume interfaces: zero is at the bottom and positive upward. Type `double[]`. (From monodimensionalProblemTimeDependent.ReadNetCDFFreezingThawing1D)\n",
    "\n",
    "- eta: coordinate of control volume centroids: zero is at the top and positive upward. Type `double[]`. (From monodimensionalProblemTimeDependent.ReadNetCDFFreezingThawing1D)\n",
    "\n",
    "- etaDual: coordinate of control volume interfaces: zero is at the bottom and positive upward. Type `double[]`. (From monodimensionalProblemTimeDependent.ReadNetCDFFreezingThawing1D)\n",
    "\n",
    "- temperatureIC: initial condition for temperature. Type `double[]`. (From monodimensionalProblemTimeDependent.ReadNetCDFFreezingThawing1D)\n",
    "\n",
    "- spaceDelta: distance between consecutive controids. It is used to compute gradients. Type `double[]`. (From monodimensionalProblemTimeDependent.ReadNetCDFFreezingThawing1D)\n",
    "\n",
    "- controlVolumeDimension: dimension of the control volume. It is used to integrate enthalpy function. Type `double[]`.(From monodimensionalProblemTimeDependent.ReadNetCDFFreezingThawing1D)\n",
    "\n",
    "- rheologyID: label used to define the rheology model of each control volume. Type `int[]`. (From monodimensionalProblemTimeDependent.ReadNetCDFFreezingThawing1D)\n",
    "\n",
    "- parameterID: label used to define the set of parameter to be used for each control volume. Type `int[]`. (From monodimensionalProblemTimeDependent.ReadNetCDFFreezingThawing1D)\n",
    "\n",
    "- soilParticlesDensity: values of the density of the soil particles [kg m-3]. Type `double[]`. (From monodimensionalProblemTimeDependent.ReadNetCDFFreezingThawing1D)\n",
    "\n",
    "- soilParticlesThermalConductivity: values of the thermal conductivity of the soil particles [W m-2 K-1]. Type `double[]`. (From monodimensionalProblemTimeDependent.ReadNetCDFFreezingThawing1D)\n",
    "\n",
    "- soilParticlesSpecificHeatCapacity: values of the specific heat capacity of the soil particles [J kg-1 m-3]. Type `double[]`. (From monodimensionalProblemTimeDependent.ReadNetCDFFreezingThawing1D)\n",
    "\n",
    "- thetaS: values of the soil water content at saturation [-]. Type `double[]`. (From monodimensionalProblemTimeDependent.ReadNetCDFFreezingThawing1D)\n",
    "\n",
    "- thetaR: values of the residual soil water content  [-]. Type `double[]`. (From monodimensionalProblemTimeDependent.ReadNetCDFFreezingThawing1D)\n",
    "\n",
    "- meltingTemperature: melting temperature [K]. Type `double[]`. (From monodimensionalProblemTimeDependent.ReadNetCDFFreezingThawing1D)\n",
    "\n",
    "- par1: SFCC parameter 1. This depends on the SFCC used, look at the documentation [-]. Type `double[]`. (From monodimensionalProblemTimeDependent.ReadNetCDFFreezingThawing1D)\n",
    "\n",
    "- par2: SFCC parameter 2. This depends on the SFCC used, look at the documentation [-]. Type `double[]`. (From monodimensionalProblemTimeDependent.ReadNetCDFFreezingThawing1D)\n",
    "\n",
    "- par3: SFCC parameter 3. This depends on the SFCC used, look at the documentation [-]. Type `double[]`. (From monodimensionalProblemTimeDependent.ReadNetCDFFreezingThawing1D)\n",
    "\n",
    "- par4: SFCC parameter 4. This depends on the SFCC used, look at the documentation [-]. Type `double[]`. (From monodimensionalProblemTimeDependent.ReadNetCDFFreezingThawing1D)\n",
    "\n",
    "- sfccModel: the name of the SFCC model used in the simulation. It is added as attribute in the NetCDF file. Type `String`\n",
    "\n",
    "- stateEquationModel: the name of the state equation model used in the simulation. For instance one can model the phase change of pure water, or the thermal regime of the ground: the enthalpy fuction - state equation - is different. It is added as attribute in the NetCDF file. Type `String`\n",
    "\n",
    "- soilThermalConductivityModel: the name of the model used to define the thermal conductivity of the medium. It is added as attribute in the NetCDF file. Type `String`\n",
    "\n",
    "- interfaceThermalConductivityModel: the name of the model used to evaluate the thermal conductivity at the interface of the adjacent control volumes. Type `String`\n",
    "\n",
    "- tTimeStep: time step of the boundary condition timeseries \\[ s \\]. Type `double`\n",
    "\n",
    "- timeDelta: integration time step \\[ s \\]. Type `double`\n",
    "\n",
    "- nestedNewton: type of the algorithm used to linearized the system of equation. The default value is 1 which corresponds to the nested Newton-Casulli-Zanolli algorithm, 0 corresponds the Newton-Raphson algorithm. Type `int`\n",
    "\n",
    "- newtonTolerance: tolerance of the algorithm used to linearized the system of equation. Type `double`\n",
    "\n",
    "- delta: paramenter used to improve the convergence of the Newton-Raphson algorithm. Defeault value is 1 and correspond to the Newton-Raphson algorithm, if <1 the the so called globally convergent Newton algorithm is used. The range of this value is \\]0,1\\]. This is used only if nestedNewton is set to 0. Type `double`\n",
    "\n",
    "- picardIteration: number of Picard iteration that can be used to update the thermal conductivity. This is a semi-impicit method therefore the thermal conductivity is computed with the solution - temperature - of the previous time step. It is worth to underline that this variable does not controll in any manner the convergence of the numerical solution. It could improve the modelization of the thermal conductivity. Range $\\leq$1. Type `int`\n",
    "\n",
    "- writeFrequency: number of time steps every which the output are saved on the disk. Range $\\leq$1. Type `int`\n",
    "\n",
    "Outputs:\n",
    "\n",
    "- inputVariable: all the computed variables of the current time step. Type `ArrayList<double[]>`. \n",
    "\n",
    "- inputDate: date, yyyy-MM-dd hh:mm, of the current time step. Type `String`.\n",
    "\n",
    "- doProcessBuffer: boolean value controlling the buffer component. Type `Boolean`."
   ]
  },
  {
   "cell_type": "markdown",
   "metadata": {},
   "source": [
    "### bufferWriter.FreezingThawingBuffer1D\n",
    "\n",
    "This is the prefix for all the variables i.e. fields below. To obtain the full name you have to join the prefix (with the dots) with the names below.\n",
    "\n",
    "- bufferWriter.FreezingThawingBuffer1D.  XXXX What exactly is this ? Is the name of the Java class. To which file it corresponds ?XXXXX\n",
    "\n",
    "Please note that in the sim file the component is usually renamed in the `component` section. Thus, you will have component_name.XXXXX\n",
    "\n",
    "\n",
    "#### Fields\n",
    "\n",
    "Inputs:\n",
    "- inputVariable: all the computed variables of the current time step. Type `ArrayList<double[]>`. (From solver1D.CallFreezingThawingSolver)\n",
    "\n",
    "- inputDate: date, yyyy-MM-dd hh:mm, of the current time step. Type `String`. (From solver1D.CallFreezingThawingSolver)\n",
    "\n",
    "- doProcessBuffer: boolean value controlling the buffer component. Type `Boolean`. (From  solver1D.CallFreezingThawingSolver)\n",
    "\n",
    "- writeFrequency: Numeber of time steps every which the ouptut is written to the disk. Default value is 1. Type `int`\n",
    "\n",
    "Outputs:\n",
    "- myVariable: the output variables for _n=writeFrequency_ time steps. Type `LinkedHashMap<String,ArrayList<double[]>>`\n"
   ]
  },
  {
   "cell_type": "markdown",
   "metadata": {},
   "source": [
    "### monodimensionalProblemTimeDependent.WriteNetCDFFreezingThawing1DDouble\n",
    "\n",
    "This is the prefix for all the variables i.e. fields below. To obtain the full name you have to join the prefix (with the dots) with the names below.\n",
    "\n",
    "- monodimensionalProblemTimeDependent.WriteNetCDFFreezingThawing1DDouble.  XXXX What exactly is this ? Is the name of the Java class. To which file it corresponds ?XXXXX\n",
    "\n",
    "Please note that in the sim file the component is usually renamed in the `component` section. Thus, you will have component_name.XXXXX\n",
    "\n",
    "\n",
    "#### Fields\n",
    "\n",
    "Inputs:\n",
    "- timeUnits: reference time string used to convert UNIX time to human readable date. Default value is Minutes since 01/01/1970 00:00:00 UTC. Type `String`\n",
    "\n",
    "- timeZone: time zone used to convert UNIX time to human readable date. Default value is UTC. Type `String`\n",
    "\n",
    "- myVariables: all the variables, computed variables, to write to the disk. This input comes from the bufferWriter.FreezingThawingBuffer1D component. Type `LinkedHashMap<String,ArrayList<double[]>>`.  (From bufferWriter.FreezingThawingBuffer1D)\n",
    "\n",
    "- mySpatialCoordinate: coordinate of the control volumes centroids. Type `double[]`. (From monodimensionalProblemTimeDependent.ReadNetCDFFreezingThawing1D)\n",
    "\n",
    "- myControlVolume: dimension of each control volume. Type `double[]`. (From monodimensionalProblemTimeDependent.ReadNetCDFFreezingThawing1D)\n",
    "\n",
    "- writeFrequency: Numeber of time step every which the ouptut is written to the disk. Default value is 1. Type `int`\n",
    "\n",
    "- fileName: name of the outupt file. It includes also the path. Type `String`\n",
    "\n",
    "- writeFrequency: numeber of time steps every which the ouptut is written to the disk. Default value is 1. Type `int`\n",
    "\n",
    "- BriefDescription: this is a brief description of the simulation that is added as attribute in the NetCDF file. Type `String`\n",
    "\n",
    "- topBC: the type of the boundary condition at the top of the domain. It is added as attribute in the NetCDF file. Type `String`\n",
    "\n",
    "- bottomBC: the type of the boundary condition at the bottom of the domain. It is added as attribute in the NetCDF file. Type `String`\n",
    "\n",
    "- pathTopBC: the path of the file containg the timeseries for the top boundary condition. It is added as attribute in the NetCDF file. Type `String`\n",
    "\n",
    "- pathBottomBC: the path of the file containg the timeseries for the bottom boundary condition. It is added as attribute in the NetCDF file. Type `String`\n",
    "\n",
    "- pathGrid: the path of the file containing the grid, i.e. geometry, parameters, initial condition. It is added as attribute in the NetCDF file. Type `String`\n",
    "\n",
    "- timeDelta: the integration time step used in the simulation. It is added as attribute in the NetCDF file. Type `String`\n",
    "\n",
    "- sfccModel: the name of the SFCC model used in the simulation. It is added as attribute in the NetCDF file. Type `String`\n",
    "\n",
    "- stateEquationModel: the name of the state equation model used in the simulation. For instance one can model the phase change of pure water, or the thermal regime of the ground: the enthalpy fuction - state equation - is different. It is added as attribute in the NetCDF file. Type `String`\n",
    "\n",
    "- soilThermalConductivityModel: the name of the model used to define the thermal conductivity of the medium. It is added as attribute in the NetCDF file. Type `String`\n",
    "\n",
    "- interfaceThermalConductivityModel: the name of the model used to evaluate the thermal conductivity at the interface of the adjacent control volumes. Type `String`\n",
    "\n",
    "- doProcess: boolean value controlling the writer component. Type `boolean`. (From bufferWriter.FreezingThawingBuffer1D)"
   ]
  },
  {
   "cell_type": "markdown",
   "metadata": {},
   "source": [
    "### Methods"
   ]
  },
  {
   "cell_type": "markdown",
   "metadata": {},
   "source": [
    "<em> <b> Methods </b> contains the (public) actions that can be performed on the components' data"
   ]
  },
  {
   "cell_type": "markdown",
   "metadata": {},
   "source": [
    "XXXXXX It seems there are no methods in Prospero or doest it means that what I classified as outputs (or inputs) are in reality methods ? XXXXXX"
   ]
  },
  {
   "cell_type": "markdown",
   "metadata": {},
   "source": [
    "## Example of a working modelling solution setup"
   ]
  },
  {
   "cell_type": "markdown",
   "metadata": {},
   "source": [
    "Put here the appropriate components draw"
   ]
  },
  {
   "cell_type": "markdown",
   "metadata": {},
   "source": [
    "# Material for Developers"
   ]
  },
  {
   "cell_type": "markdown",
   "metadata": {},
   "source": [
    "## Compiling"
   ]
  },
  {
   "cell_type": "markdown",
   "metadata": {},
   "source": [
    "Compiling instructions are at the github repository of the source code. Our component uses [Gradle](https://gradle.org/) for building the code and dealing with dependencies. XXXXX Here a description of the Gradle File etc ? XXXXX"
   ]
  },
  {
   "cell_type": "markdown",
   "metadata": {},
   "source": [
    "## Code organization and notes"
   ]
  },
  {
   "cell_type": "markdown",
   "metadata": {},
   "source": [
    "Put here a description of the code and, if appropriate, some UML  graphs that illustrate the classes and their behavior"
   ]
  },
  {
   "cell_type": "markdown",
   "metadata": {},
   "source": [
    "## Known bugs and limitations"
   ]
  },
  {
   "cell_type": "markdown",
   "metadata": {},
   "source": [
    "XXXX Some notes:\n",
    "\n",
    "- The material hs to be approriately streamlined and put in the right places, whatever they are. \n",
    "- Some inputs have to be clarified, as annotated above\n",
    "- Possible errors may occurs when reading the output file with the conversion from UNIX time to human readable date. This is probably due to the variables timeUnits and/or timeZone."
   ]
  },
  {
   "cell_type": "markdown",
   "metadata": {},
   "source": [
    "## Development proposal"
   ]
  },
  {
   "cell_type": "markdown",
   "metadata": {},
   "source": [
    "- by `Niccolò Tubini`: \n",
    "- Some parts of the code can be parallelized\n",
    "- Add other Soil Characteristic Soil Freezing Function (SFCC)\n",
    "- The surface boundary condition can be modeled considering the surface energy budget"
   ]
  },
  {
   "cell_type": "markdown",
   "metadata": {},
   "source": [
    "# GEOframe Community guidelines"
   ]
  },
  {
   "cell_type": "markdown",
   "metadata": {},
   "source": [
    "Support for users can be obtained by writing at the  \n",
    "- [GEOframe Users Group](https://groups.google.com/forum/#!forum/geoframe-components-users)\n",
    "\n",
    "Developers should write to the\n",
    "- [GEOframe Developers Mailing List](https://groups.google.com/forum/#!forum/geoframe-components-developers)\n",
    "\n",
    "Anyone is free to contribute. However, the suggestion is to start with branching our code, modyfing it and eventually call issue a pull request. "
   ]
  },
  {
   "cell_type": "markdown",
   "metadata": {},
   "source": [
    "### Who can be code Author ?"
   ]
  },
  {
   "cell_type": "markdown",
   "metadata": {},
   "source": [
    "Giving appropriate credits for the intellectual input through co-authorships or citations should be the proper functioning of the community.  The formal, legal conditions that govern the use of GEOframe at present are given by the G.P.L. v 3. Each GEOframe component can have its own license though. \n",
    "\n",
    "This policy is not intended to restrict what can be done with GEOframe codes, rather to ensure appropriate acknowledgement and communication between users and developers. This policy will be updated regularly.\n",
    "\n",
    "A developer is any person whose expertise has either significantly \n",
    "- influenced the design of GEOframe code or \n",
    "- who has written code, \n",
    "with no distinction between scientific and technical inputs. \n",
    "- Financial support alone is <b> not enough </b> to claim for being a code author. This should be recognized in Acknowledgments (see below)\n",
    "- For being added as co-author of an existing code, modifications have to be subtantial, not simply a bug fixing which is recognized in Acknowledgment. Essentially this status is discussed upon a pull request.\n",
    "\n",
    "When writing the source code of a component, GEOframe developers should consider the following:\n",
    "- Provide a brief description of what the program does.\n",
    "- State the authors of the code and the following modifiers.\n",
    "- Describe the input required to run the component and its output.\n",
    "- Some notes concerning the limitations, and the algorithms used within the component. A wish-list for the future version and/or information.\n",
    "- Articles or books which have inspired the codex or justified its necessity. Users are encouraged to cite these papers in their own work.\n",
    "Which is what this Notebook is about. \n",
    "\n",
    "Ideally a new committed code should conform to the rules required by [Joss](https://joss.readthedocs.io/en). \n",
    "Please, see also: [The GEOframe publication policy 1.0 document](https://geoframe.blogspot.com/2020/05/geoframe-community-publication-policy.html)"
   ]
  },
  {
   "cell_type": "markdown",
   "metadata": {},
   "source": [
    "# Acknowledgements"
   ]
  },
  {
   "cell_type": "markdown",
   "metadata": {},
   "source": [
    "-  Michele Bottazzi and Riccardo Rigon developed the theoretical aspects of te model (Authors). \n",
    "-  Michele Bottazzi designed the first version of the code (Authors)\n",
    "-  Michele Bottazzi implemented and deployed it (Authors)\n",
    "-  Riccardo Rigon provided financial support\n",
    "-  Concetta D'Amato made bug fixing regarding XXXXX\n",
    "-  Michele Bottazzi and Concetta D'amato wrote the documentation in the Notebooks\n",
    "-  Michele Bottazzi was partially supported by a Ph.D. grant by DICAM-UniTrento and Premio Florisa Melone by the Italian Hydrological Society. Concetta D'Amato has been supported by AES-C3A Ph.D. grant.  "
   ]
  },
  {
   "cell_type": "markdown",
   "metadata": {},
   "source": [
    "## References"
   ]
  },
  {
   "cell_type": "markdown",
   "metadata": {},
   "source": [
    "- Bottazzi, M (Ph.D. Candidate),  Rigon, R. and Bertoldi, G. (Supervisors) , Transpiration theory and theProspero component of GEOframe, Ph.D. Dissertation, DICAM doctoral School, Università di Trento, 2020\n",
    "- Other References"
   ]
  }
 ],
 "metadata": {
  "kernelspec": {
   "display_name": "Python 3",
   "language": "python",
   "name": "python3"
  },
  "language_info": {
   "codemirror_mode": {
    "name": "ipython",
    "version": 3
   },
   "file_extension": ".py",
   "mimetype": "text/x-python",
   "name": "python",
   "nbconvert_exporter": "python",
   "pygments_lexer": "ipython3",
   "version": "3.7.6"
  }
 },
 "nbformat": 4,
 "nbformat_minor": 4
}
