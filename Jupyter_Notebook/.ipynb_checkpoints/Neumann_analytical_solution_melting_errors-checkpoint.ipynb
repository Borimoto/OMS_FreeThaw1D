{
 "cells": [
  {
   "cell_type": "markdown",
   "metadata": {},
   "source": [
    "# Neumann analytial solution for the classical Stephan problem - Ice melting\n",
    "\n",
    "    - Authors: Niccolò Tubini, Stephan Gruber, Riccardo Rigon\n",
    "    - Licence: this work is licensed under a Creative Commons Attribution-NonCommercial 4.0 International License\n"
   ]
  },
  {
   "cell_type": "code",
   "execution_count": 1,
   "metadata": {},
   "outputs": [
    {
     "name": "stderr",
     "output_type": "stream",
     "text": [
      "C:\\Users\\Niccolo\\Anaconda3\\envs\\geoframe_vicenza\\lib\\site-packages\\xarray\\core\\merge.py:17: FutureWarning: The Panel class is removed from pandas. Accessing it from the top-level namespace will also be removed in the next version\n",
      "  PANDAS_TYPES = (pd.Series, pd.DataFrame, pd.Panel)\n"
     ]
    }
   ],
   "source": [
    "import os\n",
    "import pandas as pd\n",
    "import numpy as np\n",
    "import matplotlib.pyplot as plt\n",
    "import matplotlib.dates as mdates\n",
    "from matplotlib import rc\n",
    "%matplotlib inline\n",
    "import matplotlib.style as style \n",
    "import math\n",
    "import xarray as xr\n",
    "from my_plot import set_size\n",
    "\n",
    "import warnings\n",
    "warnings.filterwarnings('ignore')\n",
    "\n",
    "style.available\n",
    "style.use('seaborn-whitegrid')\n",
    "\n",
    "nice_fonts = {\n",
    "        \"legend.frameon\": True,\n",
    "        \"legend.fancybox\": True,\n",
    "        \"legend.facecolor\": \"white\",\n",
    "        \"axes.edgecolor\": \"0.8\",\n",
    "        \"axes.linewidth\": 0.6,\n",
    "        \"grid.linewidth\":0.4,\n",
    "        # Use LaTeX to write all text\n",
    "        \"text.usetex\": True,\n",
    "        \"font.family\": \"serif\",\n",
    "        # Use 10pt font in plots, to match 10pt font in document\n",
    "        \"axes.labelsize\": 14,\n",
    "        \"font.size\": 14,\n",
    "        # Make the legend/label fonts a little smaller\n",
    "        \"legend.fontsize\": 12,\n",
    "        \"xtick.labelsize\": 12,\n",
    "        \"ytick.labelsize\": 12,\n",
    "}\n",
    "\n",
    "plt.rcParams.update(nice_fonts)\n",
    "\n",
    "oms_project_path = os.path.dirname(os.getcwd())\n",
    "plot_folder = (oms_project_path+'/plots/NestedNewtonPaper')"
   ]
  },
  {
   "cell_type": "code",
   "execution_count": 2,
   "metadata": {},
   "outputs": [
    {
     "data": {
      "text/plain": [
       "'C:\\\\Users\\\\Niccolo\\\\OMS\\\\OMS_Project_FreThaw1D'"
      ]
     },
     "execution_count": 2,
     "metadata": {},
     "output_type": "execute_result"
    }
   ],
   "source": [
    "oms_project_path"
   ]
  },
  {
   "cell_type": "markdown",
   "metadata": {},
   "source": [
    "## Parameters for the analytical solution"
   ]
  },
  {
   "cell_type": "code",
   "execution_count": 3,
   "metadata": {},
   "outputs": [],
   "source": [
    "l_f = 333700\n",
    "\n",
    "c_w = 4187\n",
    "lambda_w = 0.6\n",
    "rho_w = 1000\n",
    "k_w = lambda_w/(rho_w*c_w)\n",
    "\n",
    "c_i = 2108\n",
    "lambda_i = 2.09\n",
    "rho_i = 970\n",
    "k_i = lambda_i/(rho_i*c_i)\n",
    "\n",
    "Tc = 0\n",
    "TR=5\n",
    "TL=-5\n",
    "\n",
    "xL = 0\n",
    "xR = 10\n"
   ]
  },
  {
   "cell_type": "markdown",
   "metadata": {},
   "source": [
    "## Functions to compute the analytical solution"
   ]
  },
  {
   "cell_type": "code",
   "execution_count": 4,
   "metadata": {},
   "outputs": [],
   "source": [
    "def g_fun(gamma):\n",
    "    return gamma*np.sqrt(k_w)*l_f*rho_i + lambda_w*(Tc-TR)/math.erf(gamma)*np.exp(-gamma**2)/np.sqrt(np.pi*k_w) + lambda_i*(Tc-TL)/math.erfc(gamma*np.sqrt(k_w/k_i))*np.exp(-gamma**2*k_w/k_i)/np.sqrt(np.pi*k_i)\n",
    "    \n",
    "\n",
    "def dg_fun(gamma):\n",
    "    eps = 1e-7\n",
    "    return ( g_fun(gamma+eps) - g_fun(gamma-eps) )/(2*eps)\n",
    "\n",
    "def Newton(gamma0):\n",
    "    gamma = gamma0\n",
    "    tol = 1e-12\n",
    "    for i_newton in range(1,100):\n",
    "        gk = g_fun(gamma)\n",
    "        res = abs(gk)\n",
    "        if (res<tol):\n",
    "            break\n",
    "        dgamma = -gk/dg_fun(gamma)\n",
    "        gamma = gamma + dgamma\n",
    "        \n",
    "    return gamma\n",
    "\n",
    "gamma = Newton(1)\n",
    "\n",
    "def Neumann_temperature(x, dt, gamma, xL, xR, TL, TR, TMAX, k_i, k_w):\n",
    "    '''\n",
    "    Function to compute the solution of the temperature field\n",
    "    and the position of the freezing front (zero-isotherm)\n",
    "    \n",
    "    return: T the temperature field (time, x)\n",
    "    return: zero_isotherm position (time)\n",
    "    '''\n",
    "    Te = np.zeros((TMAX,len(x)))\n",
    "    zero_isotherm = np.zeros(TMAX)\n",
    "    \n",
    "    G1 = (Tc-TR)/math.erf(gamma)\n",
    "    G2 = (Tc-TL)/math.erfc(gamma*np.sqrt(k_w/k_i))\n",
    "    \n",
    "    for t in range(0,TMAX):\n",
    "        \n",
    "        time = 0 + dt*(t+1)\n",
    "        s = gamma*2*np.sqrt(k_w*time)\n",
    "        \n",
    "        zero_isotherm[t] = s\n",
    "        \n",
    "        for i in range(0,len(x)):\n",
    "            if ((-x[i]+xR)>s):\n",
    "                Te[t,i] = TR + G1*math.erf((-x[i]+xR)/2/np.sqrt(k_w*time))\n",
    "            else:\n",
    "                Te[t,i] = TL + G2*math.erfc((-x[i]+xR)/2/np.sqrt(k_i*time))\n",
    "                \n",
    "    return [Te, zero_isotherm]"
   ]
  },
  {
   "cell_type": "code",
   "execution_count": 5,
   "metadata": {},
   "outputs": [],
   "source": [
    "def zero_isotherm(time, T, z):\n",
    "    '''\n",
    "    Compute the zero-isotherm of the numerical solution.\n",
    "    The zero-isotherm is computes as linear intepolation of the temperature\n",
    "    field.\n",
    "    \n",
    "    return: zero_isotherm\n",
    "    '''\n",
    "    zero_isotherm = np.zeros(len(time))\n",
    "    \n",
    "    for t in range(0,len(time)):\n",
    "    \n",
    "        for k in range(0,len(z)):\n",
    "            if T[t,k]>=273.15:\n",
    "                m =  (T[t,k]-T[t,k-1])/(z[k]-z[k-1])\n",
    "                q = T[t,k]  - m*z[k] \n",
    "                zero_isotherm[t] = (273.15 - T[t,k] + m*z[k])/m\n",
    "                break\n",
    "            else:\n",
    "                zero_isotherm[t] = np.nan\n",
    "    \n",
    "    return zero_isotherm"
   ]
  },
  {
   "cell_type": "code",
   "execution_count": 6,
   "metadata": {},
   "outputs": [],
   "source": [
    "os.chdir(oms_project_path + '/output')\n",
    "# os.listdir()"
   ]
  },
  {
   "cell_type": "code",
   "execution_count": 7,
   "metadata": {},
   "outputs": [
    {
     "name": "stdout",
     "output_type": "stream",
     "text": [
      "read\n",
      "read\n",
      "read\n",
      "read\n",
      "read\n",
      "read\n",
      "read\n",
      "read\n",
      "read\n"
     ]
    }
   ],
   "source": [
    "with xr.open_dataset('NeumannAnalytical_Melting_dz001_3600s.nc', engine='scipy') as ds_dz001_3600s:\n",
    "    print('read')\n",
    "with xr.open_dataset('NeumannAnalytical_Melting_dz001_300s.nc', engine='scipy') as ds_dz001_300s:\n",
    "    print('read')\n",
    "with xr.open_dataset('NeumannAnalytical_Melting_dz001_60s.nc', engine='scipy') as ds_dz001_60s:\n",
    "    print('read')\n",
    "    \n",
    "with xr.open_dataset('NeumannAnalytical_Melting_dz005_3600s.nc', engine='scipy') as ds_dz005_3600s:\n",
    "    print('read')\n",
    "with xr.open_dataset('NeumannAnalytical_Melting_dz005_300s.nc', engine='scipy') as ds_dz005_300s:\n",
    "    print('read')\n",
    "with xr.open_dataset('NeumannAnalytical_Melting_dz005_60s.nc', engine='scipy') as ds_dz005_60s:\n",
    "    print('read')\n",
    "    \n",
    "with xr.open_dataset('NeumannAnalytical_Melting_dz01_3600s.nc', engine='scipy') as ds_dz01_3600s:\n",
    "    print('read')\n",
    "with xr.open_dataset('NeumannAnalytical_Melting_dz01_300s.nc', engine='scipy') as ds_dz01_300s:\n",
    "    print('read')\n",
    "with xr.open_dataset('NeumannAnalytical_Melting_dz01_60s.nc', engine='scipy') as ds_dz01_60s:\n",
    "    print('read')"
   ]
  },
  {
   "cell_type": "code",
   "execution_count": 8,
   "metadata": {},
   "outputs": [
    {
     "name": "stdout",
     "output_type": "stream",
     "text": [
      "Wall time: 10min 52s\n"
     ]
    }
   ],
   "source": [
    "%%time\n",
    "\n",
    "TMAX = 2400\n",
    "\n",
    "\n",
    "[Te_dz001_60, zero_isotherm_dz001_60] = Neumann_temperature(ds_dz001_60s.z.values[:], 60, gamma, xL, xR, TL, TR, TMAX, k_i, k_w)\n",
    "[Te_dz001_300, zero_isotherm_dz001_300] = Neumann_temperature(ds_dz001_300s.z.values[:], 300, gamma, xL, xR, TL, TR, TMAX, k_i, k_w)\n",
    "[Te_dz001_3600, zero_isotherm_dz001_3600] = Neumann_temperature(ds_dz001_3600s.z.values[:], 3600, gamma, xL, xR, TL, TR, TMAX, k_i, k_w)\n",
    "\n",
    "[Te_dz005_60, zero_isotherm_dz005_60] = Neumann_temperature(ds_dz005_60s.z.values[:], 60, gamma, xL, xR, TL, TR, TMAX, k_i, k_w)\n",
    "[Te_dz005_300, zero_isotherm_dz005_300] = Neumann_temperature(ds_dz005_300s.z.values[:], 300, gamma, xL, xR, TL, TR, TMAX, k_i, k_w)\n",
    "[Te_dz005_3600, zero_isotherm_dz005_3600] = Neumann_temperature(ds_dz005_3600s.z.values[:], 3600, gamma, xL, xR, TL, TR, TMAX, k_i, k_w)\n",
    "\n",
    "[Te_dz01_60, zero_isotherm_dz01_60] = Neumann_temperature(ds_dz01_60s.z.values[:], 60, gamma, xL, xR, TL, TR, TMAX, k_i, k_w)\n",
    "[Te_dz01_300, zero_isotherm_dz01_300] = Neumann_temperature(ds_dz01_300s.z.values[:], 300, gamma, xL, xR, TL, TR, TMAX, k_i, k_w)\n",
    "[Te_dz01_3600, zero_isotherm_dz01_3600] = Neumann_temperature(ds_dz01_3600s.z.values[:], 3600, gamma, xL, xR, TL, TR, TMAX, k_i, k_w)\n"
   ]
  },
  {
   "cell_type": "code",
   "execution_count": 9,
   "metadata": {},
   "outputs": [
    {
     "name": "stdout",
     "output_type": "stream",
     "text": [
      "Wall time: 40min 27s\n"
     ]
    }
   ],
   "source": [
    "%%time\n",
    "\n",
    "num_freezing_front_dz001_60s = zero_isotherm(ds_dz001_60s.time.values, ds_dz001_60s.T.values, ds_dz001_60s.z.values[:])\n",
    "num_freezing_front_dz001_300s = zero_isotherm(ds_dz001_300s.time.values, ds_dz001_300s.T.values, ds_dz001_300s.z.values[:])\n",
    "num_freezing_front_dz001_3600s = zero_isotherm(ds_dz001_3600s.time.values, ds_dz001_3600s.T.values, ds_dz001_3600s.z.values[:])\n",
    "\n",
    "num_freezing_front_dz005_60s = zero_isotherm(ds_dz005_60s.time.values, ds_dz005_60s.T.values, ds_dz005_60s.z.values[:])\n",
    "num_freezing_front_dz005_300s = zero_isotherm(ds_dz005_300s.time.values, ds_dz005_300s.T.values, ds_dz005_300s.z.values[:])\n",
    "num_freezing_front_dz005_3600s = zero_isotherm(ds_dz005_3600s.time.values, ds_dz005_3600s.T.values, ds_dz005_3600s.z.values[:])\n",
    "\n",
    "num_freezing_front_dz01_60s = zero_isotherm(ds_dz01_60s.time.values, ds_dz01_60s.T.values, ds_dz01_60s.z.values[:])\n",
    "num_freezing_front_dz01_300s = zero_isotherm(ds_dz01_300s.time.values, ds_dz01_300s.T.values, ds_dz01_300s.z.values[:])\n",
    "num_freezing_front_dz01_3600s = zero_isotherm(ds_dz01_3600s.time.values, ds_dz01_3600s.T.values, ds_dz01_3600s.z.values[:])\n",
    "\n",
    "\n"
   ]
  },
  {
   "cell_type": "markdown",
   "metadata": {},
   "source": [
    "## Absolute error melting front position after 1h"
   ]
  },
  {
   "cell_type": "code",
   "execution_count": 12,
   "metadata": {},
   "outputs": [
    {
     "data": {
      "text/plain": [
       "0.000848132499282706"
      ]
     },
     "execution_count": 12,
     "metadata": {},
     "output_type": "execute_result"
    }
   ],
   "source": [
    "max(abs(10- num_freezing_front_dz001_60s[59:2400]-zero_isotherm_dz001_60[59:]))\n"
   ]
  },
  {
   "cell_type": "code",
   "execution_count": 11,
   "metadata": {},
   "outputs": [
    {
     "data": {
      "text/plain": [
       "0.0013545884441340528"
      ]
     },
     "execution_count": 11,
     "metadata": {},
     "output_type": "execute_result"
    }
   ],
   "source": [
    "max(abs(10- num_freezing_front_dz001_300s[11:2400]-zero_isotherm_dz001_300[11:]))\n"
   ]
  },
  {
   "cell_type": "code",
   "execution_count": 10,
   "metadata": {},
   "outputs": [
    {
     "data": {
      "text/plain": [
       "0.0061477281173809295"
      ]
     },
     "execution_count": 10,
     "metadata": {},
     "output_type": "execute_result"
    }
   ],
   "source": [
    "max(abs(10- num_freezing_front_dz001_3600s[0:2400]-zero_isotherm_dz001_3600[:]))\n"
   ]
  },
  {
   "cell_type": "code",
   "execution_count": 13,
   "metadata": {},
   "outputs": [
    {
     "data": {
      "text/plain": [
       "0.004327559078561768"
      ]
     },
     "execution_count": 13,
     "metadata": {},
     "output_type": "execute_result"
    }
   ],
   "source": [
    "max(abs(10- num_freezing_front_dz005_60s[59:2400]-zero_isotherm_dz005_60[59:]))\n"
   ]
  },
  {
   "cell_type": "code",
   "execution_count": 14,
   "metadata": {},
   "outputs": [
    {
     "data": {
      "text/plain": [
       "0.004378284706877768"
      ]
     },
     "execution_count": 14,
     "metadata": {},
     "output_type": "execute_result"
    }
   ],
   "source": [
    "max(abs(10- num_freezing_front_dz005_300s[11:2400]-zero_isotherm_dz005_300[11:]))\n"
   ]
  },
  {
   "cell_type": "code",
   "execution_count": 15,
   "metadata": {},
   "outputs": [
    {
     "data": {
      "text/plain": [
       "0.0054671091394533355"
      ]
     },
     "execution_count": 15,
     "metadata": {},
     "output_type": "execute_result"
    }
   ],
   "source": [
    "max(abs(10- num_freezing_front_dz005_3600s[0:2400]-zero_isotherm_dz005_3600[:]))\n"
   ]
  },
  {
   "cell_type": "code",
   "execution_count": 16,
   "metadata": {},
   "outputs": [
    {
     "data": {
      "text/plain": [
       "0.008530805769330765"
      ]
     },
     "execution_count": 16,
     "metadata": {},
     "output_type": "execute_result"
    }
   ],
   "source": [
    "max(abs(10- num_freezing_front_dz01_60s[59:2400]-zero_isotherm_dz01_60[59:]))\n"
   ]
  },
  {
   "cell_type": "code",
   "execution_count": 17,
   "metadata": {},
   "outputs": [
    {
     "data": {
      "text/plain": [
       "0.008631327512508384"
      ]
     },
     "execution_count": 17,
     "metadata": {},
     "output_type": "execute_result"
    }
   ],
   "source": [
    "max(abs(10- num_freezing_front_dz01_300s[11:2400]-zero_isotherm_dz01_300[11:]))\n"
   ]
  },
  {
   "cell_type": "code",
   "execution_count": 18,
   "metadata": {},
   "outputs": [
    {
     "data": {
      "text/plain": [
       "0.009271649494080058"
      ]
     },
     "execution_count": 18,
     "metadata": {},
     "output_type": "execute_result"
    }
   ],
   "source": [
    "max(abs(10- num_freezing_front_dz01_3600s[0:2400]-zero_isotherm_dz01_3600[:]))\n"
   ]
  },
  {
   "cell_type": "code",
   "execution_count": null,
   "metadata": {},
   "outputs": [],
   "source": []
  }
 ],
 "metadata": {
  "kernelspec": {
   "display_name": "Python 3",
   "language": "python",
   "name": "python3"
  },
  "language_info": {
   "codemirror_mode": {
    "name": "ipython",
    "version": 3
   },
   "file_extension": ".py",
   "mimetype": "text/x-python",
   "name": "python",
   "nbconvert_exporter": "python",
   "pygments_lexer": "ipython3",
   "version": "3.7.7"
  }
 },
 "nbformat": 4,
 "nbformat_minor": 4
}
