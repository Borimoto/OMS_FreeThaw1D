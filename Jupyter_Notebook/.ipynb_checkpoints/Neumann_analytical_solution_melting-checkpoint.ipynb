{
 "cells": [
  {
   "cell_type": "markdown",
   "metadata": {},
   "source": [
    "# Neumann analytial solution for the classical Stephan problem - Ice melting\n",
    "\n",
    "    - Authors: Niccolò Tubini, Stephan Gruber, Riccardo Rigon\n",
    "    - Licence: this work is licensed under a Creative Commons Attribution-NonCommercial 4.0 International License\n",
    "----\n",
    "This notebook presents the comparison between the Neumann analytical solution for ice melting and the numerical solution obtained with FreThaw1D. FreThaw1D is a 1D semi-implicit finite volume solver for the enthalpy - or conservative - form of the heat equation. FreThaw1D implements the nested Newton-Casulli-Zanolli algorithm to linearize the nonlinear system of equation resulting from the numerical approximation of the govering equation.\n",
    "\n",
    "The time step integration is $3600$ [s] and three different grid spacing are used $0.001$ [m], $0.005$ [m], $0.01$ [m]."
   ]
  },
  {
   "cell_type": "code",
   "execution_count": 1,
   "metadata": {},
   "outputs": [
    {
     "name": "stderr",
     "output_type": "stream",
     "text": [
      "C:\\Users\\Niccolo\\Anaconda3\\envs\\geoframe_vicenza\\lib\\site-packages\\xarray\\core\\merge.py:17: FutureWarning: The Panel class is removed from pandas. Accessing it from the top-level namespace will also be removed in the next version\n",
      "  PANDAS_TYPES = (pd.Series, pd.DataFrame, pd.Panel)\n"
     ]
    }
   ],
   "source": [
    "import os\n",
    "import pandas as pd\n",
    "import numpy as np\n",
    "import matplotlib.pyplot as plt\n",
    "import matplotlib.dates as mdates\n",
    "from matplotlib import rc\n",
    "%matplotlib inline\n",
    "import matplotlib.style as style \n",
    "import math\n",
    "import xarray as xr\n",
    "from my_plot import set_size\n",
    "\n",
    "import warnings\n",
    "warnings.filterwarnings('ignore')\n",
    "\n",
    "style.available\n",
    "style.use('seaborn-whitegrid')\n",
    "\n",
    "nice_fonts = {\n",
    "        \"legend.frameon\": True,\n",
    "        \"legend.fancybox\": True,\n",
    "        \"legend.facecolor\": \"white\",\n",
    "        \"axes.edgecolor\": \"0.8\",\n",
    "        \"axes.linewidth\": 0.6,\n",
    "        \"grid.linewidth\":0.4,\n",
    "        # Use LaTeX to write all text\n",
    "        \"text.usetex\": True,\n",
    "        \"font.family\": \"serif\",\n",
    "        # Use 10pt font in plots, to match 10pt font in document\n",
    "        \"axes.labelsize\": 14,\n",
    "        \"font.size\": 14,\n",
    "        # Make the legend/label fonts a little smaller\n",
    "        \"legend.fontsize\": 12,\n",
    "        \"xtick.labelsize\": 12,\n",
    "        \"ytick.labelsize\": 12,\n",
    "}\n",
    "\n",
    "plt.rcParams.update(nice_fonts)\n",
    "\n",
    "oms_project_path = os.path.dirname(os.getcwd())\n",
    "plot_folder = (oms_project_path+'/plots/NestedNewtonPaper')"
   ]
  },
  {
   "cell_type": "code",
   "execution_count": 2,
   "metadata": {},
   "outputs": [
    {
     "data": {
      "text/plain": [
       "'C:\\\\Users\\\\Niccolo\\\\OMS\\\\OMS_Project_FreThaw1D'"
      ]
     },
     "execution_count": 2,
     "metadata": {},
     "output_type": "execute_result"
    }
   ],
   "source": [
    "oms_project_path"
   ]
  },
  {
   "cell_type": "markdown",
   "metadata": {},
   "source": [
    "## Parameters for the analytical solution"
   ]
  },
  {
   "cell_type": "code",
   "execution_count": 3,
   "metadata": {},
   "outputs": [],
   "source": [
    "l_f = 333700\n",
    "\n",
    "c_w = 4187\n",
    "lambda_w = 0.6\n",
    "rho_w = 1000\n",
    "k_w = lambda_w/(rho_w*c_w)\n",
    "\n",
    "c_i = 2108\n",
    "lambda_i = 2.09\n",
    "rho_i = 970\n",
    "k_i = lambda_i/(rho_i*c_i)\n",
    "\n",
    "Tc = 0\n",
    "TR=5\n",
    "TL=-5\n",
    "\n",
    "xL = 0\n",
    "xR = 10\n"
   ]
  },
  {
   "cell_type": "markdown",
   "metadata": {},
   "source": [
    "## Functions to compute the analytical solution"
   ]
  },
  {
   "cell_type": "code",
   "execution_count": 52,
   "metadata": {},
   "outputs": [],
   "source": [
    "def g_fun(gamma):\n",
    "    return -gamma*np.sqrt(k_w)*l_f*rho_i - lambda_w*(Tc-TR)/math.erf(gamma)*np.exp(-gamma**2)/np.sqrt(np.pi*k_w) - lambda_i*(Tc-TL)/math.erfc(gamma*np.sqrt(k_w/k_i))*np.exp(-gamma**2*k_w/k_i)/np.sqrt(np.pi*k_i)\n",
    "    \n",
    "\n",
    "def dg_fun(gamma):\n",
    "    eps = 1e-7\n",
    "    return ( g_fun(gamma+eps) - g_fun(gamma-eps) )/(2*eps)\n",
    "\n",
    "def Newton(gamma0):\n",
    "    gamma = gamma0\n",
    "    tol = 1e-12\n",
    "    for i_newton in range(1,100):\n",
    "        gk = g_fun(gamma)\n",
    "        res = abs(gk)\n",
    "        if (res<tol):\n",
    "            break\n",
    "        dgamma = -gk/dg_fun(gamma)\n",
    "        gamma = gamma + dgamma\n",
    "        \n",
    "    return gamma\n",
    "\n",
    "gamma = Newton(1)\n",
    "\n",
    "def Neumann_temperature(x, dt, gamma, xL, xR, TL, TR, TMAX, k_i, k_w):\n",
    "    '''\n",
    "    Function to compute the solution of the temperature field\n",
    "    and the position of the freezing front (zero-isotherm)\n",
    "    \n",
    "    return: T the temperature field (time, x)\n",
    "    return: zero_isotherm position (time)\n",
    "    '''\n",
    "    Te = np.zeros((TMAX,len(x)))\n",
    "    zero_isotherm = np.zeros(TMAX)\n",
    "    \n",
    "    G1 = (Tc-TR)/math.erf(gamma)\n",
    "    G2 = (Tc-TL)/math.erfc(gamma*np.sqrt(k_w/k_i))\n",
    "    \n",
    "    for t in range(0,TMAX):\n",
    "        \n",
    "        time = 0 + dt*(t+1)\n",
    "        s = gamma*2*np.sqrt(k_w*time)\n",
    "        \n",
    "        zero_isotherm[t] = s\n",
    "        \n",
    "        for i in range(0,len(x)):\n",
    "            if ((-x[i]+xR)<s):\n",
    "                Te[t,i] = TR + G1*math.erf((-x[i]+xR)/2/np.sqrt(k_w*time))\n",
    "            else:\n",
    "                Te[t,i] = TL + G2*math.erfc((-x[i]+xR)/2/np.sqrt(k_i*time))\n",
    "                \n",
    "    return [Te, zero_isotherm]"
   ]
  },
  {
   "cell_type": "code",
   "execution_count": 5,
   "metadata": {},
   "outputs": [],
   "source": [
    "def zero_isotherm(time, T, z):\n",
    "    '''\n",
    "    Compute the zero-isotherm of the numerical solution.\n",
    "    The zero-isotherm is computes as linear intepolation of the temperature\n",
    "    field.\n",
    "    \n",
    "    return: zero_isotherm\n",
    "    '''\n",
    "    zero_isotherm = np.zeros(len(time))\n",
    "    \n",
    "    for t in range(0,len(time)):\n",
    "    \n",
    "        for k in range(0,len(z)):\n",
    "            if T[t,k]>=273.15:\n",
    "                m =  (T[t,k]-T[t,k-1])/(z[k]-z[k-1])\n",
    "                q = T[t,k]  - m*z[k] \n",
    "                zero_isotherm[t] = (273.15 - T[t,k] + m*z[k])/m\n",
    "                break\n",
    "            else:\n",
    "                zero_isotherm[t] = np.nan\n",
    "    \n",
    "    return zero_isotherm"
   ]
  },
  {
   "cell_type": "code",
   "execution_count": 23,
   "metadata": {},
   "outputs": [],
   "source": [
    "os.chdir(oms_project_path + '/output')\n",
    "# os.listdir()"
   ]
  },
  {
   "cell_type": "code",
   "execution_count": 9,
   "metadata": {},
   "outputs": [
    {
     "name": "stdout",
     "output_type": "stream",
     "text": [
      "read\n",
      "read\n",
      "read\n"
     ]
    }
   ],
   "source": [
    "with xr.open_dataset('NeumannAnalytical_Melting_dz001_3600s.nc', engine='scipy') as ds_dz001:\n",
    "    print('read')\n",
    "with xr.open_dataset('NeumannAnalytical_Melting_dz005_3600s.nc', engine='scipy') as ds_dz005:\n",
    "    print('read')\n",
    "with xr.open_dataset('NeumannAnalytical_Melting_dz01_3600s.nc', engine='scipy') as ds_dz01:\n",
    "    print('read')"
   ]
  },
  {
   "cell_type": "code",
   "execution_count": 56,
   "metadata": {},
   "outputs": [],
   "source": [
    "[T_analytical, zero_isotherm_analytical] = Neumann_temperature(ds_dz001.z.values[:], 3600, gamma, xL, xR, TL, TR, len(ds_dz001.time.values), k_i, k_w)\n",
    "ds_dz001[\"TAnalytical\"]=(['time','z'], T_analytical)\n",
    "ds_dz001[\"zeroIsothermAnalytical\"]=(['time'], zero_isotherm_analytical)\n",
    "\n",
    "[T_analytical, zero_isotherm_analytical] = Neumann_temperature(ds_dz005.z.values[:], 3600, gamma, xL, xR, TL, TR, len(ds_dz005.time.values), k_i, k_w)\n",
    "ds_dz005[\"TAnalytical\"]=(['time','z'], T_analytical)\n",
    "ds_dz005[\"zeroIsothermAnalytical\"]=(['time'], zero_isotherm_analytical)\n",
    "\n",
    "[T_analytical, zero_isotherm_analytical]  = Neumann_temperature(ds_dz01.z.values[:] , 3600, gamma, xL, xR, TL, TR, len(ds_dz01.time.values), k_i, k_w)\n",
    "ds_dz01[\"TAnalytical\"]=(['time','z'], T_analytical)\n",
    "ds_dz01[\"zeroIsothermAnalytical\"]=(['time'], zero_isotherm_analytical)\n",
    "\n",
    "\n",
    "num_freezing_front = zero_isotherm(ds_dz001.time.values, ds_dz001.T.values, ds_dz001.z.values[:])\n",
    "ds_dz001[\"zeroIsotherm\"]=(['time'], num_freezing_front)\n",
    "\n",
    "num_freezing_front = zero_isotherm(ds_dz005.time.values, ds_dz005.T.values, ds_dz005.z.values[:])\n",
    "ds_dz005[\"zeroIsotherm\"]=(['time'], num_freezing_front)\n",
    "\n",
    "num_freezing_front = zero_isotherm(ds_dz01.time.values, ds_dz01.T.values, ds_dz01.z.values[:])\n",
    "ds_dz01[\"zeroIsotherm\"]=(['time'], num_freezing_front)"
   ]
  },
  {
   "cell_type": "markdown",
   "metadata": {},
   "source": [
    "## Melting front position: comparison between the analytical solution and the numerical solution"
   ]
  },
  {
   "cell_type": "code",
   "execution_count": 57,
   "metadata": {},
   "outputs": [],
   "source": [
    "page_width = 500.0 #pt\n",
    "\n",
    "plot_width = set_size(page_width, subplots=(1, 1))[0]"
   ]
  },
  {
   "cell_type": "code",
   "execution_count": 58,
   "metadata": {},
   "outputs": [
    {
     "data": {
      "image/png": "[encoded data removed]",
      "text/plain": [
       "<Figure size 498.132x307.869 with 3 Axes>"
      ]
     },
     "metadata": {},
     "output_type": "display_data"
    }
   ],
   "source": [
    "start_date = '2000-01-01 00:00'\n",
    "end_date = '2000-04-10 00:00'\n",
    "line_w = 1.5 #0.7\n",
    "line_s_a = '-'\n",
    "line_s_num = '--'\n",
    "color_a = 'black'\n",
    "color_num = 'red'\n",
    "color_num_1 = '#a6cee3'\n",
    "\n",
    "\n",
    "fig, ax = plt.subplots(1, 3, sharey='row', figsize=(plot_width,plot_width/1.618))\n",
    "\n",
    "\n",
    "ax[0].plot(ds_dz001.zeroIsothermAnalytical.sel(time=slice(start_date,end_date)), linestyle=line_s_a  , linewidth=line_w, color= color_a) \n",
    "ax[0].plot(10-ds_dz001.zeroIsotherm.sel(time=slice(start_date,end_date))       , linestyle=line_s_num, linewidth=line_w, color= color_num_1)\n",
    "ax[0].plot(np.nan,np.nan, color='k', linestyle='-', linewidth = 1.1, label='Analytical sol.')\n",
    "ax[0].plot(np.nan,np.nan, color=color_num_1, linestyle='--', linewidth = 1.1, label='Numerical sol.')\n",
    "\n",
    "ax[0].set_ylabel('$\\\\zeta$ [m]')\n",
    "# to have a x-axis with number of days and not dates\n",
    "time_step_number = len(ds_dz001.zeroIsothermAnalytical.sel(time=slice(start_date,end_date)))\n",
    "ax[0].set_xticks([0, time_step_number/2, time_step_number])\n",
    "ax[0].set_xticklabels(['$0$', '$50$', '$100$' ])\n",
    "ax[0].set_xlabel('Time [days]')\n",
    "ax[0].invert_yaxis()\n",
    "\n",
    "\n",
    "ax[1].plot(ds_dz005.zeroIsothermAnalytical.sel(time=slice(start_date,end_date)), linestyle=line_s_a  , linewidth=line_w, color= color_a) \n",
    "ax[1].plot(10-ds_dz001.zeroIsotherm.sel(time=slice(start_date,end_date))       , linestyle=line_s_num, linewidth=line_w, color= color_num_1)\n",
    "# to have a x-axis with number of days and not dates\n",
    "ax[1].set_xticks([0, time_step_number/2, time_step_number])\n",
    "ax[1].set_xticklabels(['$0$', '$50$', '$100$' ])\n",
    "ax[1].set_xlabel('Time [days]')\n",
    "                             \n",
    "\n",
    "ax[2].plot(ds_dz01.zeroIsothermAnalytical.sel(time=slice(start_date,end_date)), linestyle=line_s_a  , linewidth=line_w, color= color_a) \n",
    "ax[2].plot(10-ds_dz01.zeroIsotherm.sel(time=slice(start_date,end_date))       , linestyle=line_s_num, linewidth=line_w, color= color_num_1)\n",
    "# to have a x-axis with number of days and not dates\n",
    "ax[2].set_xticks([0, time_step_number/2, time_step_number])\n",
    "ax[2].set_xticklabels(['$0$', '$50$', '$100$' ])\n",
    "ax[2].set_xlabel('Time [days]')\n",
    "\n",
    "lgd = ax[0].legend(bbox_to_anchor=(2.7,1.15),ncol=2)\n",
    "\n",
    "plt.text( 0.25,0.9, '$\\Delta z = 0.001$ [m]', fontsize=12,\n",
    "             transform=ax[0].transAxes)\n",
    "plt.text( 0.25,0.9, '$\\Delta z = 0.005$ [m]', fontsize=12,\n",
    "             transform=ax[1].transAxes)\n",
    "plt.text( 0.31,0.9, '$\\Delta z = 0.01$ [m]', fontsize=12,\n",
    "             transform=ax[2].transAxes)\n",
    "\n",
    "plt.show()\n"
   ]
  },
  {
   "cell_type": "markdown",
   "metadata": {},
   "source": [
    "## Temperature at different depths: comparison between the analytical solution and the numerical solution"
   ]
  },
  {
   "cell_type": "code",
   "execution_count": 60,
   "metadata": {},
   "outputs": [
    {
     "data": {
      "image/png": "[encoded data removed]",
      "text/plain": [
       "<Figure size 498.132x307.869 with 3 Axes>"
      ]
     },
     "metadata": {},
     "output_type": "display_data"
    }
   ],
   "source": [
    "\n",
    "line_w_a = 1.1\n",
    "line_w_num = 1.1\n",
    "line_s_a = '-'\n",
    "line_s_num = '--'\n",
    "color_a = 'black'\n",
    "color_num = 'red'\n",
    "color_num_1 = '#a6cee3'\n",
    "color_num_2 = '#1f78b4'\n",
    "color_num_3 = '#b2df8a'\n",
    "color_num_4 = '#33a02c'\n",
    "\n",
    "fig, ax = plt.subplots(1, 3, sharey='row', figsize=(plot_width, plot_width/1.618))\n",
    "\n",
    "ax[0].plot(np.nan,np.nan, color='k', linestyle='-', linewidth = 1.1, label='Analytical sol.')\n",
    "ax[0].plot(np.nan,np.nan, color='k', linestyle='--', linewidth = 1.1, label='Numerical sol.')\n",
    "\n",
    "z_to_plot = 10.0-0.25\n",
    "ax[0].plot(ds_dz001.TAnalytical.sel(z=z_to_plot, method=\"nearest\").sel(time=slice(start_date,end_date)),  linestyle=line_s_a, linewidth=line_w_a, color= color_num_1,label='$0.25$ [m]') \n",
    "ax[0].plot(ds_dz001.T.sel(z=z_to_plot, method=\"nearest\").sel(time=slice(start_date,end_date))-273.15   , linestyle=line_s_num, linewidth=line_w_num, color= color_num_1)\n",
    "\n",
    "z_to_plot = 10.0-0.5\n",
    "ax[0].plot(ds_dz001.TAnalytical.sel(z=z_to_plot, method=\"nearest\").sel(time=slice(start_date,end_date)), linestyle=line_s_a, linewidth=line_w_a, color= color_num_2,label='$0.5$ [m]') \n",
    "ax[0].plot(ds_dz001.T.sel(z=z_to_plot, method=\"nearest\").sel(time=slice(start_date,end_date))-273.15   , linestyle=line_s_num, linewidth=line_w_num, color= color_num_2)\n",
    "\n",
    "z_to_plot = 10.0-1.0\n",
    "ax[0].plot(ds_dz001.TAnalytical.sel(z=z_to_plot, method=\"nearest\").sel(time=slice(start_date,end_date)), linestyle=line_s_a, linewidth=line_w_a, color= color_num_3, label='$1.0$ [m]')\n",
    "ax[0].plot(ds_dz001.T.sel(z=z_to_plot, method=\"nearest\").sel(time=slice(start_date,end_date))-273.15   , linestyle=line_s_num, linewidth=line_w_num, color= color_num_3)\n",
    "\n",
    "z_to_plot = 10.0-2.0\n",
    "ax[0].plot(ds_dz001.TAnalytical.sel(z=z_to_plot, method=\"nearest\").sel(time=slice(start_date,end_date)), linestyle=line_s_a, linewidth=line_w_a, color= color_num_4, label='$2.0$ [m]')\n",
    "ax[0].plot(ds_dz001.T.sel(z=z_to_plot, method=\"nearest\").sel(time=slice(start_date,end_date))-273.15   , linestyle=line_s_num, linewidth=line_w_num, color= color_num_4)\n",
    "\n",
    "ax[0].set_ylabel('Temperature [$^\\circ$C]')\n",
    "# to have a x-axis with number of days and not dates\n",
    "time_step_number = len(ds_dz001.time.sel(time=slice(start_date,end_date)))\n",
    "ax[0].set_xticks([0, time_step_number/2, time_step_number])\n",
    "ax[0].set_xticklabels(['$0$', '$50$', '$100$' ])\n",
    "ax[0].set_xlabel('Time [days]')\n",
    "\n",
    "\n",
    "\n",
    "z_to_plot = 10-0.25\n",
    "ax[1].plot(ds_dz005.TAnalytical.sel(z=z_to_plot, method=\"nearest\").sel(time=slice(start_date,end_date)),  linestyle=line_s_a, linewidth=line_w_a, color= color_num_1) \n",
    "ax[1].plot(ds_dz005.T.sel(z=z_to_plot, method=\"nearest\").sel(time=slice(start_date,end_date))-273.15   , linestyle=line_s_num, linewidth=line_w_num, color= color_num_1) \n",
    "\n",
    "z_to_plot = 10-0.5\n",
    "ax[1].plot(ds_dz005.TAnalytical.sel(z=z_to_plot, method=\"nearest\").sel(time=slice(start_date,end_date)), linestyle=line_s_a, linewidth=line_w_a, color= color_num_2) \n",
    "ax[1].plot(ds_dz005.T.sel(z=z_to_plot, method=\"nearest\").sel(time=slice(start_date,end_date))-273.15   , linestyle=line_s_num, linewidth=line_w_num, color= color_num_2)\n",
    "\n",
    "z_to_plot = 10-1.0\n",
    "ax[1].plot(ds_dz005.TAnalytical.sel(z=z_to_plot, method=\"nearest\").sel(time=slice(start_date,end_date)), linestyle=line_s_a, linewidth=line_w_a, color= color_num_3) \n",
    "ax[1].plot(ds_dz005.T.sel(z=z_to_plot, method=\"nearest\").sel(time=slice(start_date,end_date))-273.15   , linestyle=line_s_num, linewidth=line_w_num, color= color_num_3)\n",
    "\n",
    "z_to_plot = 10-2.0\n",
    "ax[1].plot(ds_dz005.TAnalytical.sel(z=z_to_plot, method=\"nearest\").sel(time=slice(start_date,end_date)), linestyle=line_s_a, linewidth=line_w_a, color= color_num_4)\n",
    "ax[1].plot(ds_dz005.T.sel(z=z_to_plot, method=\"nearest\").sel(time=slice(start_date,end_date))-273.15   , linestyle=line_s_num, linewidth=line_w_num, color= color_num_4)\n",
    "\n",
    "ax[1].set_xticks([0, time_step_number/2, time_step_number])\n",
    "ax[1].set_xticklabels(['$0$', '$50$', '$100$' ])\n",
    "ax[1].set_xlabel('Time [days]')\n",
    "\n",
    "\n",
    "\n",
    "z_to_plot = 10.0-0.25\n",
    "ax[2].plot(ds_dz01.TAnalytical.sel(z=z_to_plot, method=\"nearest\").sel(time=slice(start_date,end_date)),  linestyle=line_s_a, linewidth=line_w_a, color= color_num_1) \n",
    "ax[2].plot(ds_dz01.T.sel(z=z_to_plot, method=\"nearest\").sel(time=slice(start_date,end_date))-273.15   , linestyle=line_s_num, linewidth=line_w_num, color= color_num_1) \n",
    "\n",
    "z_to_plot = 10.0-0.5\n",
    "ax[2].plot(ds_dz01.TAnalytical.sel(z=z_to_plot, method=\"nearest\").sel(time=slice(start_date,end_date)), linestyle=line_s_a, linewidth=line_w_a, color= color_num_2) \n",
    "ax[2].plot(ds_dz01.T.sel(z=z_to_plot, method=\"nearest\").sel(time=slice(start_date,end_date))-273.15   , linestyle=line_s_num, linewidth=line_w_num, color= color_num_2)\n",
    "\n",
    "z_to_plot = 10.0-1.0\n",
    "ax[2].plot(ds_dz01.TAnalytical.sel(z=z_to_plot, method=\"nearest\").sel(time=slice(start_date,end_date)), linestyle=line_s_a, linewidth=line_w_a, color= color_num_3)\n",
    "ax[2].plot(ds_dz01.T.sel(z=z_to_plot, method=\"nearest\").sel(time=slice(start_date,end_date))-273.15   , linestyle=line_s_num, linewidth=line_w_num, color= color_num_3)\n",
    "\n",
    "z_to_plot = 10.0-2.0\n",
    "ax[2].plot(ds_dz01.TAnalytical.sel(z=z_to_plot, method=\"nearest\").sel(time=slice(start_date,end_date)), linestyle=line_s_a, linewidth=line_w_a, color= color_num_4)\n",
    "ax[2].plot(ds_dz01.T.sel(z=z_to_plot, method=\"nearest\").sel(time=slice(start_date,end_date))-273.15   , linestyle=line_s_num, linewidth=line_w_num, color= color_num_4)\n",
    "\n",
    "ax[2].set_xticks([0, time_step_number/2, time_step_number])\n",
    "ax[2].set_xticklabels(['$0$', '$50$', '$100$' ])\n",
    "ax[2].set_xlabel('Time [days]')\n",
    "\n",
    "\n",
    "lgd = ax[0].legend(bbox_to_anchor=(3.1,1.22), ncol=3)\n",
    "\n",
    "plt.text( 0.25,0.02, '$\\Delta z = 0.001$ [m]', fontsize=12,\n",
    "             transform=ax[0].transAxes)\n",
    "plt.text( 0.25,0.02, '$\\Delta z = 0.005$ [m]', fontsize=12,\n",
    "             transform=ax[1].transAxes)\n",
    "plt.text( 0.25,0.02, '$\\Delta z = 0.01$ [m]', fontsize=12,\n",
    "             transform=ax[2].transAxes)\n",
    "\n",
    "plt.show()\n"
   ]
  },
  {
   "cell_type": "code",
   "execution_count": null,
   "metadata": {},
   "outputs": [],
   "source": []
  }
 ],
 "metadata": {
  "kernelspec": {
   "display_name": "Python 3",
   "language": "python",
   "name": "python3"
  },
  "language_info": {
   "codemirror_mode": {
    "name": "ipython",
    "version": 3
   },
   "file_extension": ".py",
   "mimetype": "text/x-python",
   "name": "python",
   "nbconvert_exporter": "python",
   "pygments_lexer": "ipython3",
   "version": "3.7.7"
  }
 },
 "nbformat": 4,
 "nbformat_minor": 4
}
