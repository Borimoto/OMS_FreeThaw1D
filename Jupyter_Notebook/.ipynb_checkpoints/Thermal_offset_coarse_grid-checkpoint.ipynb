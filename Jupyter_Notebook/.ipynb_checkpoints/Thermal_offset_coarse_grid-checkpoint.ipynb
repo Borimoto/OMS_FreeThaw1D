{
 "cells": [
  {
   "cell_type": "markdown",
   "metadata": {},
   "source": [
    "# Synthetic numerical experiment - coarser grid\n",
    "\n",
    "    - Author Niccolò Tubini, Stephan Gruber, Riccardo Rigon\n",
    "    - License: this work is licensed under a Creative Commons Attribution-NonCommercial 4.0 International License\n",
    "-----\n",
    "We now analyse the difference between solutions using hourly, a daily, and 10-day time steps. The domain is a soil column of $20$ m depth that is uniformly at $T=-3$ °C, initially. The bottom boundary condition is adiabatic and at the surface, we use a Dirichtlet boundary condition. The original forcing has hourly resolution and for longer time steps, corresponding averages are computed.\n",
    "\n",
    "We analyse both the zero-isotherm position and the temperature profile envelope of the three simulation.\n",
    "The thickness of the ground layer is parametrized as\n",
    "$$dz_i = dz_{min}(1+b)^{i-1}$$\n",
    "where $dz_{min}=5$ mm and $b=0.1$.\n"
   ]
  },
  {
   "cell_type": "code",
   "execution_count": 3,
   "metadata": {},
   "outputs": [],
   "source": [
    "import os\n",
    "\n",
    "import pandas as pd\n",
    "import numpy as np\n",
    "import matplotlib.pyplot as plt\n",
    "import matplotlib.dates as mdates\n",
    "from matplotlib import rc\n",
    "%matplotlib inline\n",
    "import matplotlib.style as style \n",
    "import datetime as datetime\n",
    "\n",
    "import xarray as xr\n",
    "\n",
    "from gf.io import gf_io\n",
    "from my_plot import set_size\n",
    "\n",
    "import warnings\n",
    "warnings.filterwarnings('ignore')\n",
    "\n",
    "style.available\n",
    "style.use('seaborn-whitegrid')\n",
    "\n",
    "nice_fonts = {\n",
    "        \"legend.frameon\": True,\n",
    "        \"legend.fancybox\": True,\n",
    "        \"legend.facecolor\": \"white\",\n",
    "        \"axes.edgecolor\": \"0.8\",\n",
    "        \"axes.linewidth\": 0.6,\n",
    "        \"grid.linewidth\":0.4,\n",
    "        # Use LaTeX to write all text\n",
    "        \"text.usetex\": True,\n",
    "        \"font.family\": \"serif\",\n",
    "        # Use 10pt font in plots, to match 10pt font in document\n",
    "        \"axes.labelsize\": 10,\n",
    "        \"font.size\": 10,\n",
    "        # Make the legend/label fonts a little smaller\n",
    "        \"legend.fontsize\": 8,\n",
    "        \"xtick.labelsize\": 8,\n",
    "        \"ytick.labelsize\": 8,\n",
    "}\n",
    "\n",
    "plt.rcParams.update(nice_fonts)\n",
    "\n",
    "\n",
    "page_width = 500.0 #pt\n",
    "plot_width = set_size(page_width, subplots=(1, 1))[0]\n",
    "\n",
    "oms_project_path = os.path.dirname(os.getcwd())\n"
   ]
  },
  {
   "cell_type": "markdown",
   "metadata": {},
   "source": [
    "## Zero isotherm"
   ]
  },
  {
   "cell_type": "code",
   "execution_count": 4,
   "metadata": {},
   "outputs": [],
   "source": [
    "os.chdir(oms_project_path + '/data/Timeseries')\n",
    "# os.listdir()"
   ]
  },
  {
   "cell_type": "code",
   "execution_count": 5,
   "metadata": {},
   "outputs": [],
   "source": [
    "df_Tsurf_H = gf_io.read_OMS_timeseries('Plotting_surface_temperature_Hourly.csv',-9999)\n",
    "df_Tsurf_H.index=pd.to_datetime(df_Tsurf_H.index)\n",
    "\n",
    "df_Tsurf_D = gf_io.read_OMS_timeseries('Plotting_surface_temperature_Daily.csv',-9999)\n",
    "df_Tsurf_D.index=pd.to_datetime(df_Tsurf_D.index)\n",
    "\n",
    "df_Tsurf_10D = gf_io.read_OMS_timeseries('Plotting_surface_temperature_10Day.csv',-9999)\n",
    "df_Tsurf_10D.index=pd.to_datetime(df_Tsurf_10D.index)"
   ]
  },
  {
   "cell_type": "code",
   "execution_count": 6,
   "metadata": {},
   "outputs": [],
   "source": [
    "os.chdir(oms_project_path + '/output')\n",
    "# os.listdir()"
   ]
  },
  {
   "cell_type": "code",
   "execution_count": 7,
   "metadata": {},
   "outputs": [
    {
     "name": "stdout",
     "output_type": "stream",
     "text": [
      "read ds_H\n",
      "read ds_D\n",
      "read ds_10D\n",
      "Wall time: 8.11 s\n"
     ]
    }
   ],
   "source": [
    "%%time\n",
    "    \n",
    "with xr.open_dataset('ThermalOffset_coarsegrid_H.nc', engine='scipy') as ds_H:\n",
    "    print('read ds_H') \n",
    "    \n",
    "with xr.open_dataset('ThermalOffset_coarsegrid_D.nc', engine='scipy') as ds_D:\n",
    "    print('read ds_D')\n",
    "\n",
    "with xr.open_dataset('ThermalOffset_coarsegrid_10D.nc', engine='scipy') as ds_10D:\n",
    "    print('read ds_10D')"
   ]
  },
  {
   "cell_type": "code",
   "execution_count": 8,
   "metadata": {},
   "outputs": [],
   "source": [
    "r = 6\n",
    "def zero_isotherm_T(time, dt, T, z):\n",
    "    \n",
    "    num_z_zero_isotherm = np.zeros(len(time))\n",
    "    num_seconds = np.zeros(len(time))\n",
    "    T = np.round(T,r)\n",
    "    z = np.round(z,r)\n",
    "    for t in range(0,len(time)):\n",
    "    \n",
    "        num_seconds[t] = dt*(t+1)\n",
    "        for k in range(0,len(z)):\n",
    "            if T[t,k] >= 273.15:\n",
    "    #             num_freezing_front[t] = ds.z.values[0,k]\n",
    "                m =  (  T[t,k] -  T[t,k-1] )/(z[k]-z[k-1])\n",
    "                q =  T[t,k]  - m*z[k] \n",
    "                num_z_zero_isotherm[t] = (273.15 -  T[t,k] + m*z[k])/m\n",
    "                break\n",
    "            else:\n",
    "                num_z_zero_isotherm[t] = np.nan\n",
    "    \n",
    "    return [num_z_zero_isotherm, num_seconds]"
   ]
  },
  {
   "cell_type": "code",
   "execution_count": 9,
   "metadata": {},
   "outputs": [],
   "source": [
    "r = 6\n",
    "def zero_isotherm_T_top(time, dt, T, z):\n",
    "    \n",
    "    num_z_zero_isotherm = np.zeros(len(time))\n",
    "    num_seconds = np.zeros(len(time))\n",
    "    T = np.round(T,r)\n",
    "    z = np.round(z,r)\n",
    "    for t in range(0,len(time)):\n",
    "\n",
    "        num_seconds[t] = dt*(t+1)\n",
    "        for k in range(len(z)-1,1,-1):\n",
    "#             print(k)\n",
    "            if ( ( T[t,k]-273.15)*( T[t,k-1]-273.15) ) <=0.0:\n",
    "\n",
    "                m =  ( T[t,k] -  T[t,k-1] )/(z[k]-z[k-1])\n",
    "                q =  T[t,k]  - m*z[k] \n",
    "                num_z_zero_isotherm[t] = (273.15 -  T[t,k] + m*z[k])/m\n",
    "                break\n",
    "            else:\n",
    "                num_z_zero_isotherm[t] = np.nan\n",
    "    \n",
    "    return [num_z_zero_isotherm, num_seconds]"
   ]
  },
  {
   "cell_type": "code",
   "execution_count": null,
   "metadata": {},
   "outputs": [],
   "source": [
    "%%time\n",
    "[num_freezing_front_H, num_time_sec_H] = zero_isotherm_T(ds_H.time.values, 3600, ds_H.T.values, ds_H.z.values[:])\n",
    "[num_freezing_front_H_top, num_time_sec_H] = zero_isotherm_T_top(ds_H.time.values, 3600, ds_H.T.values, ds_H.z.values[:])\n",
    "\n"
   ]
  },
  {
   "cell_type": "code",
   "execution_count": null,
   "metadata": {},
   "outputs": [],
   "source": [
    "%%time\n",
    "\n",
    "[num_freezing_front_D, num_time_sec_D] = zero_isotherm_T(ds_D.time.values, 86400, ds_D.T.values, ds_D.z.values[:])\n",
    "[num_freezing_front_D_top, num_time_sec_D] = zero_isotherm_T_top(ds_D.time.values, 86400, ds_D.T.values, ds_D.z.values[:])\n"
   ]
  },
  {
   "cell_type": "code",
   "execution_count": null,
   "metadata": {},
   "outputs": [],
   "source": [
    "%%time\n",
    "\n",
    "[num_freezing_front_10D, num_time_sec_10D] = zero_isotherm_T(ds_10D.time.values, 864000, ds_10D.T.values, ds_10D.z.values[:])\n",
    "[num_freezing_front_10D_top, num_time_sec_10D] = zero_isotherm_T_top(ds_10D.time.values, 864000, ds_10D.T.values, ds_10D.z.values[:])\n",
    "\n"
   ]
  },
  {
   "cell_type": "code",
   "execution_count": null,
   "metadata": {},
   "outputs": [],
   "source": [
    "num_freezing_front_H_top_corr = num_freezing_front_H_top\n",
    "num_freezing_front_H_top_corr[num_freezing_front_H_top_corr==num_freezing_front_H] = np.nan\n",
    "\n",
    "num_freezing_front_D_top_corr = num_freezing_front_D_top\n",
    "num_freezing_front_D_top_corr[num_freezing_front_D_top_corr==num_freezing_front_D] = np.nan\n",
    "\n",
    "num_freezing_front_10D_top_corr = num_freezing_front_10D_top\n",
    "num_freezing_front_10D_top_corr[num_freezing_front_10D_top_corr==num_freezing_front_10D] = np.nan\n"
   ]
  },
  {
   "cell_type": "code",
   "execution_count": null,
   "metadata": {},
   "outputs": [],
   "source": [
    "ds_H[\"freezingfront\"]=(['time'],  num_freezing_front_H)\n",
    "ds_H[\"freezingfronttop\"]=(['time'],  num_freezing_front_H_top_corr)\n",
    "\n",
    "ds_D[\"freezingfront\"]=(['time'], num_freezing_front_D)\n",
    "ds_D[\"freezingfronttop\"]=(['time'], num_freezing_front_D_top_corr)\n",
    "\n",
    "ds_10D[\"freezingfront\"]=(['time'], num_freezing_front_10D)\n",
    "ds_10D[\"freezingfronttop\"]=(['time'], num_freezing_front_10D_top_corr)"
   ]
  },
  {
   "cell_type": "code",
   "execution_count": null,
   "metadata": {},
   "outputs": [],
   "source": [
    "start_date = '1902-01-10'\n",
    "end_date = '2002-01-05'    \n",
    "error_freeze_H_10D = np.zeros(len(ds_10D.freezingfront.sel(time=slice(start_date, end_date)).values))\n",
    "error_freeze_top_H_10D = np.zeros(len(ds_10D.freezingfront.sel(time=slice(start_date, end_date)).values))\n",
    "error_freeze_D_10D = np.zeros(len(ds_10D.freezingfront.sel(time=slice(start_date, end_date)).values))\n",
    "error_freeze_top_D_10D = np.zeros(len(ds_10D.freezingfront.sel(time=slice(start_date, end_date)).values))\n",
    "i = 0\n",
    "end_date = '2001-12-26'\n",
    "for date in ds_10D.time.sel(time=slice(start_date, end_date)).values:\n",
    "    error_freeze_H_10D[i] = abs(ds_H.freezingfront.sel(time=date).values - ds_10D.freezingfront.sel(time=date).values)\n",
    "    error_freeze_top_H_10D[i] = abs(ds_H.freezingfronttop.sel(time=date).values - ds_10D.freezingfronttop.sel(time=date).values)\n",
    "    error_freeze_D_10D[i] = abs(ds_D.freezingfront.sel(time=date).values - ds_10D.freezingfront.sel(time=date).values)\n",
    "    error_freeze_top_D_10D[i] = abs(ds_D.freezingfronttop.sel(time=date).values - ds_10D.freezingfronttop.sel(time=date).values)\n",
    "\n",
    "    i=i+1"
   ]
  },
  {
   "cell_type": "code",
   "execution_count": null,
   "metadata": {},
   "outputs": [],
   "source": [
    "freezingfront_max_error_H_10D = np.fmax(error_freeze_H_10D,error_freeze_top_H_10D)\n",
    "freezingfront_max_error_D_10D = np.fmax(error_freeze_D_10D,error_freeze_top_D_10D)"
   ]
  },
  {
   "cell_type": "code",
   "execution_count": null,
   "metadata": {},
   "outputs": [],
   "source": [
    "## devo calcolarlo per tutta la serie storica\n",
    "ds_10D[\"freezingfrontmaxerrorDD\"]=(['time'], freezingfront_max_error_D_10D)\n",
    "ds_10D[\"freezingfrontmaxerrorHH\"]=(['time'], freezingfront_max_error_H_10D)"
   ]
  },
  {
   "cell_type": "markdown",
   "metadata": {},
   "source": [
    "### Year 2001"
   ]
  },
  {
   "cell_type": "code",
   "execution_count": null,
   "metadata": {},
   "outputs": [],
   "source": [
    "line_w = 0.7\n",
    "marker_s = 1.3\n",
    "\n",
    "color_H = '#1f78b4'\n",
    "color_D =  '#a6cee3'#'#74add1'\n",
    "color_10D = '#33a02c'  #'#b2df8a'\n",
    "\n",
    "color_T_H = '#fc9272' #'#f4a582'\n",
    "color_T_D = '#ef3b2c' #'#b2182b'\n",
    "color_T_10D = '#a50f15' #'#67001f'\n",
    "\n",
    "start_date = '2001-01-01'\n",
    "end_date = '2002-01-01'\n",
    "\n",
    "fig, ax = plt.subplots(3, 1, sharex='col', gridspec_kw={'height_ratios': [1,1, 2]},figsize=(plot_width,plot_width/1.618))\n",
    "\n",
    "ax[0].plot(df_Tsurf_H[start_date:end_date]  -273.15, label='Hourly' , color=color_T_H  , linewidth=line_w)\n",
    "ax[0].plot(df_Tsurf_D[start_date:end_date]  -273.15, label='Daily'  , color=color_T_D  , linewidth=line_w)\n",
    "ax[0].plot(df_Tsurf_10D[start_date:end_date]-273.15, label='10 days', color=color_T_10D, linewidth=line_w)\n",
    "\n",
    "ax[0].set_ylabel('$T_{surf}$\\n[$^\\circ$C]')\n",
    "ax[0].set_yticks([-20, 0.0, 20])\n",
    "ax[0].axes.legend(bbox_to_anchor=(1.27,1.1))\n",
    "\n",
    "\n",
    "ax[1].plot(ds_10D.time.sel(time=slice(start_date, end_date)).values,ds_10D.freezingfrontmaxerrorHH.sel(time=slice(start_date,end_date)).values, label='H.1h - 10D.10d', color='0.4', linewidth=line_w,marker='.',markersize=marker_s)\n",
    "ax[1].plot(ds_10D.time.sel(time=slice(start_date, end_date)).values,ds_10D.freezingfrontmaxerrorDD.sel(time=slice(start_date,end_date)).values, label='D.1d - 10D.10d', color='0.7', linewidth=line_w,marker='.',markersize=marker_s)\n",
    "ax[1].set_ylabel('Deviation\\n[m]')\n",
    "ax[1].axes.legend(bbox_to_anchor=(1.37,.95))\n",
    "\n",
    "\n",
    "lns1 = ax[2].plot(ds_H.time.sel(time=slice(start_date,end_date)).values,ds_H.freezingfronttop.sel(time=slice(start_date,end_date)).values,'.',color=color_H,markersize=0.9)\n",
    "lns1 = ax[2].plot(ds_H.time.sel(time=slice(start_date,end_date)).values,ds_H.freezingfront.sel(time=slice(start_date,end_date)).values,'.',color=color_H,markersize=0.9,label='Hourly, $\\Delta t = 1$ h'  )\n",
    "\n",
    "lns2 = ax[2].plot(ds_D.time.sel(time=slice(start_date,end_date)).values,ds_D.freezingfronttop.sel(time=slice(start_date,end_date)).values,'.',color=color_D,markersize=marker_s)\n",
    "lns2 = ax[2].plot(ds_D.time.sel(time=slice(start_date,end_date)).values,ds_D.freezingfront.sel(time=slice(start_date,end_date)).values,'.',color=color_D,markersize=marker_s,label='Daily, $\\Delta t = 1$ d'  )\n",
    "\n",
    "lns3 = ax[2].plot(ds_10D.time.sel(time=slice(start_date,end_date)).values,ds_10D.freezingfronttop.sel(time=slice(start_date,end_date)).values,'^',color=color_10D,markersize=2.3)\n",
    "lns3 = ax[2].plot(ds_10D.time.sel(time=slice(start_date,end_date)).values,ds_10D.freezingfront.sel(time=slice(start_date,end_date)).values,   '^',color=color_10D,markersize=2.3,label='10 days, $\\Delta t = 10$ d'  )\n",
    "\n",
    "\n",
    "ax[2].set_xlabel('Time [yyyy-mm]')\n",
    "ax[2].set_ylabel('Zero\\nisotherm [m]')\n",
    "ax[2].xaxis.set_major_formatter(mdates.DateFormatter('%Y-%m'))\n",
    "lns = lns1+lns2+lns3\n",
    "labs = [l.get_label() for l in lns]\n",
    "ax[2].legend(lns, labs, bbox_to_anchor=(1.42,0.75))\n",
    "\n",
    "plt.text( 0.05,0.7, '(a)', fontsize=12,\n",
    "             transform=ax[0].transAxes)\n",
    "plt.text( 0.05,0.7, '(b)', fontsize=12,\n",
    "             transform=ax[1].transAxes)\n",
    "plt.text( 0.05,0.85, '(c)', fontsize=12,\n",
    "             transform=ax[2].transAxes)\n",
    "\n",
    "plt.show()"
   ]
  },
  {
   "cell_type": "markdown",
   "metadata": {},
   "source": [
    "### Detail of the beginnig of the thawing season 2001"
   ]
  },
  {
   "cell_type": "code",
   "execution_count": null,
   "metadata": {},
   "outputs": [],
   "source": [
    "# line_w = 0.7\n",
    "marker_s = 1.3\n",
    "\n",
    "color_H = '#1f78b4'\n",
    "color_D =  '#a6cee3'\n",
    "color_10D = '#33a02c'  \n",
    "\n",
    "color_T_H = '#fc9272' \n",
    "color_T_D = '#ef3b2c' \n",
    "color_T_10D = '#a50f15' \n",
    "\n",
    "start_date = '2001-03-21'\n",
    "end_date = '2001-05-20 00:00'\n",
    "\n",
    "fig, ax = plt.subplots(3, 1, sharex='col', gridspec_kw={'height_ratios': [1,1,2]},figsize=(plot_width,plot_width/1.618))\n",
    "\n",
    "ax[0].plot(df_Tsurf_H[start_date:end_date]  -273.15, label='Hourly' , color=color_T_H  , linewidth=line_w)\n",
    "ax[0].plot(df_Tsurf_D[start_date:end_date]  -273.15, label='Daily'  , color=color_T_D  , linewidth=line_w)\n",
    "ax[0].plot(df_Tsurf_10D[start_date:end_date]-273.15, label='10 days', color=color_T_10D, linewidth=line_w)\n",
    "\n",
    "ax[0].set_ylabel('$T_{surf}$\\n[$^\\circ$C]')\n",
    "ax[0].set_yticks([-20, 0.0, 20])\n",
    "ax[0].axes.legend(bbox_to_anchor=(0.15,1.04), loc=\"lower left\",ncol=3,frameon=True)\n",
    "\n",
    "\n",
    "ax[1].plot(ds_10D.time.sel(time=slice(start_date, end_date)).values, ds_10D.freezingfrontmaxerrorHH.sel(time=slice(start_date,end_date)).values, label='1h - 10d', color='0.4', linewidth=line_w,marker='.',markersize=2.0)\n",
    "ax[1].plot(ds_10D.time.sel(time=slice(start_date, end_date)).values, ds_10D.freezingfrontmaxerrorDD.sel(time=slice(start_date,end_date)).values, label='1d - 10d', color='0.7', linewidth=line_w,marker='.',markersize=2.0)\n",
    "\n",
    "ax[1].set_ylabel('Deviation\\n[m]')\n",
    "ax[1].axes.legend(loc='upper left')\n",
    "\n",
    "\n",
    "lns1 = ax[2].plot(ds_H.time.sel(time=slice(start_date,end_date)).values, ds_H.freezingfronttop.sel(time=slice(start_date,end_date)).values, '.', color=color_H, markersize=1.8)\n",
    "lns1 = ax[2].plot(ds_H.time.sel(time=slice(start_date,end_date)).values, ds_H.freezingfront.sel(time=slice(start_date,end_date)).values   , '.', color=color_H, markersize=1.8, label='$\\Delta t = 1$ h'  )\n",
    "\n",
    "lns2 = ax[2].plot(ds_D.time.sel(time=slice(start_date,end_date)).values, ds_D.freezingfronttop.sel(time=slice(start_date,end_date)).values, '.', color=color_D, markersize=2.3)\n",
    "lns2 = ax[2].plot(ds_D.time.sel(time=slice(start_date,end_date)).values, ds_D.freezingfront.sel(time=slice(start_date,end_date)).values   , '.', color=color_D, markersize=2.3, label='$\\Delta t = 1$ d'  )\n",
    "\n",
    "lns3 = ax[2].plot(ds_10D.time.sel(time=slice(start_date,end_date)).values, ds_10D.freezingfronttop.sel(time=slice(start_date,end_date)).values, '^', color=color_10D, markersize=2.5)\n",
    "lns3 = ax[2].plot(ds_10D.time.sel(time=slice(start_date,end_date)).values, ds_10D.freezingfront.sel(time=slice(start_date,end_date)).values   , '^', color=color_10D, markersize=2.5,   label='$\\Delta t = 10$ d'  )\n",
    "\n",
    "\n",
    "ax[2].set_xlabel('Time [yy-mm]')\n",
    "ax[2].set_ylabel('Zero\\nisotherm [m]')\n",
    "ax[2].xaxis.set_major_formatter(mdates.DateFormatter('%y-%m'))\n",
    "\n",
    "lns = lns1+lns2+lns3\n",
    "labs = [l.get_label() for l in lns]\n",
    "ax[2].legend(lns, labs, loc='center left')\n",
    "\n",
    "plt.text( 0.9,0.2, '(a)', fontsize=12,\n",
    "             transform=ax[0].transAxes)\n",
    "plt.text( 0.9,0.7, '(b)', fontsize=12,\n",
    "             transform=ax[1].transAxes)\n",
    "plt.text( 0.9,0.85, '(c)', fontsize=12,\n",
    "             transform=ax[2].transAxes)\n",
    "\n",
    "plt.show()\n"
   ]
  },
  {
   "cell_type": "markdown",
   "metadata": {},
   "source": [
    "### Detail of the beginnig of the freezing season 2001"
   ]
  },
  {
   "cell_type": "code",
   "execution_count": null,
   "metadata": {},
   "outputs": [],
   "source": [
    "# line_w = 0.7\n",
    "marker_s = 1.3\n",
    "\n",
    "color_H = '#1f78b4'\n",
    "color_D =  '#a6cee3'#'#74add1'\n",
    "color_10D = '#33a02c'  #'#b2df8a'\n",
    "\n",
    "color_T_H = '#fc9272' #'#f4a582'\n",
    "color_T_D = '#ef3b2c' #'#b2182b'\n",
    "color_T_10D = '#a50f15' #'#67001f'\n",
    "\n",
    "start_date = '2001-08-28'\n",
    "end_date = '2001-11-22 00:00'\n",
    "\n",
    "fig, ax = plt.subplots(3, 1, sharex='col', gridspec_kw={'height_ratios': [1,1,2]},figsize=(plot_width,plot_width/1.618))\n",
    "\n",
    "ax[0].plot(df_Tsurf_H[start_date:end_date]  -273.15, label='Hourly' , color=color_T_H  , linewidth=line_w)\n",
    "ax[0].plot(df_Tsurf_D[start_date:end_date]  -273.15, label='Daily'  , color=color_T_D  , linewidth=line_w)\n",
    "ax[0].plot(df_Tsurf_10D[start_date:end_date]-273.15, label='10 days', color=color_T_10D, linewidth=line_w)\n",
    "\n",
    "ax[0].set_ylabel('$T_{surf}$\\n[$^\\circ$C]')\n",
    "ax[0].set_yticks([-20, 0.0, 20])\n",
    "ax[0].axes.legend(bbox_to_anchor=(0.15,1.04), loc=\"lower left\",ncol=3,frameon=True)\n",
    "\n",
    "\n",
    "ax[1].plot(ds_10D.time.sel(time=slice(start_date, end_date)).values, ds_10D.freezingfrontmaxerrorHH.sel(time=slice(start_date,end_date)).values, label='1h - 10d', color='0.4', linewidth=line_w,marker='.',markersize=2.0)\n",
    "ax[1].plot(ds_10D.time.sel(time=slice(start_date, end_date)).values, ds_10D.freezingfrontmaxerrorDD.sel(time=slice(start_date,end_date)).values, label='1d - 10d', color='0.7', linewidth=line_w,marker='.',markersize=2.0)\n",
    "\n",
    "ax[1].set_ylabel('Deviation\\n[m]')\n",
    "ax[1].axes.legend(loc='upper left')\n",
    "\n",
    "\n",
    "lns1 = ax[2].plot(ds_H.time.sel(time=slice(start_date,end_date)).values, ds_H.freezingfronttop.sel(time=slice(start_date,end_date)).values, '.', color=color_H, markersize=1.8)\n",
    "lns1 = ax[2].plot(ds_H.time.sel(time=slice(start_date,end_date)).values, ds_H.freezingfront.sel(time=slice(start_date,end_date)).values   , '.', color=color_H, markersize=1.8, label='$\\Delta t = 1$ h'  )\n",
    "\n",
    "lns2 = ax[2].plot(ds_D.time.sel(time=slice(start_date,end_date)).values, ds_D.freezingfronttop.sel(time=slice(start_date,end_date)).values, '.', color=color_D, markersize=2.3)\n",
    "lns2 = ax[2].plot(ds_D.time.sel(time=slice(start_date,end_date)).values, ds_D.freezingfront.sel(time=slice(start_date,end_date)).values   , '.', color=color_D, markersize=2.3, label='$\\Delta t = 1$ d'  )\n",
    "\n",
    "lns3 = ax[2].plot(ds_10D.time.sel(time=slice(start_date,end_date)).values, ds_10D.freezingfronttop.sel(time=slice(start_date,end_date)).values, '^', color=color_10D, markersize=2.5)\n",
    "lns3 = ax[2].plot(ds_10D.time.sel(time=slice(start_date,end_date)).values, ds_10D.freezingfront.sel(time=slice(start_date,end_date)).values   , '^', color=color_10D, markersize=2.5,   label='$\\Delta t = 10$ d'  )\n",
    "\n",
    "\n",
    "ax[2].set_xlabel('Time [yy-mm]')\n",
    "ax[2].set_ylabel('Zero\\nisotherm [m]')\n",
    "ax[2].xaxis.set_major_formatter(mdates.DateFormatter('%y-%m'))\n",
    "\n",
    "lns = lns1+lns2+lns3\n",
    "labs = [l.get_label() for l in lns]\n",
    "ax[2].legend(lns, labs, loc='center left')\n",
    "\n",
    "plt.text( 0.9,0.7, '(a)', fontsize=12,\n",
    "             transform=ax[0].transAxes)\n",
    "plt.text( 0.9,0.7, '(b)', fontsize=12,\n",
    "             transform=ax[1].transAxes)\n",
    "plt.text( 0.9,0.85, '(c)', fontsize=12,\n",
    "             transform=ax[2].transAxes)\n",
    "\n",
    "plt.show()"
   ]
  },
  {
   "cell_type": "markdown",
   "metadata": {},
   "source": [
    "## Thermal offset and the zero-curtain effect"
   ]
  },
  {
   "cell_type": "code",
   "execution_count": null,
   "metadata": {},
   "outputs": [],
   "source": [
    "os.chdir(oms_project_path + '/output')\n",
    "# os.listdir()"
   ]
  },
  {
   "cell_type": "code",
   "execution_count": null,
   "metadata": {},
   "outputs": [],
   "source": [
    "%%time\n",
    "with xr.open_dataset('ThermalOffset_finegrid_H.nc', engine='scipy') as ds_H:\n",
    "    print('read ds_H') \n",
    "    \n",
    "with xr.open_dataset('ThermalOffset_finegrid_D.nc', engine='scipy') as ds_D:\n",
    "    print('read ds_D')\n",
    "\n",
    "with xr.open_dataset('ThermalOffset_finegrid_10D.nc', engine='scipy') as ds_10D:\n",
    "    print('read ds_10D')\n"
   ]
  },
  {
   "cell_type": "code",
   "execution_count": null,
   "metadata": {},
   "outputs": [],
   "source": [
    "T_mean_H = ds_H.T.mean(dim='time')\n",
    "T_max_H = ds_H.T.max(dim='time')\n",
    "T_min_H = ds_H.T.min(dim='time')\n",
    "\n",
    "T_mean_D = ds_D.T.mean(dim='time')\n",
    "T_max_D = ds_D.T.max(dim='time')\n",
    "T_min_D = ds_D.T.min(dim='time')\n",
    "\n",
    "T_mean_10D = ds_10D.T.mean(dim='time')\n",
    "T_max_10D = ds_10D.T.max(dim='time')\n",
    "T_min_10D = ds_10D.T.min(dim='time')\n",
    "\n",
    "eta = 20 - ds_H.z.values[:]"
   ]
  },
  {
   "cell_type": "markdown",
   "metadata": {},
   "source": [
    "## Temperature evolope for the three simulations"
   ]
  },
  {
   "cell_type": "code",
   "execution_count": null,
   "metadata": {},
   "outputs": [],
   "source": [
    "line_w = 1.1\n",
    "line_w_1 = 1.3\n",
    "marker_s = 3.5\n",
    "\n",
    "fig, ax = plt.subplots(1, 4, sharey='row', figsize=(plot_width,plot_width/1.618))\n",
    "\n",
    "\n",
    "lns1 = ax[0].plot(T_min_H.values -273.15 ,  -eta, color='#74add1'  , linewidth=line_w_1, marker='.', markersize=0., label='min')\n",
    "lns2 = ax[0].plot(T_mean_H.values -273.15,  -eta, color='0.35'     , linewidth=line_w_1, marker='.', markersize=0.,label='mean')\n",
    "lns3 = ax[0].plot(T_max_H.values-273.15  ,  -eta, color='#d73027'  , linewidth=line_w_1, marker='.', markersize=0.,label='max')\n",
    "ax[0].set_xlabel('$T$ [$^\\circ$C]')\n",
    "ax[0].set_ylabel('$z$ [m]')\n",
    "\n",
    "lns4 = ax[1].plot(T_min_H.values-273.15  ,  -eta, color='k'   , linewidth=line_w, marker='.', markersize=marker_s)\n",
    "lns5 = ax[1].plot(T_min_D.values-273.15  ,  -eta, color='0.55', linewidth=line_w, marker='.', markersize=marker_s)\n",
    "lns6 = ax[1].plot(T_min_10D.values-273.15,  -eta, color='0.7' , linewidth=line_w, marker='.', markersize=marker_s)\n",
    "ax[1].set_xlabel('$T_{min}$ [$^\\circ$C]')\n",
    "ax[1].set_xticks([-30,-10])\n",
    "\n",
    "\n",
    "ax[2].plot(T_mean_H.values-273.15  ,  -eta, color='k'   , linewidth=line_w, marker='.', markersize=marker_s)\n",
    "ax[2].plot(T_mean_D.values-273.15  ,  -eta, color='0.55', linewidth=line_w, marker='.', markersize=marker_s)\n",
    "ax[2].plot(T_mean_10D.values-273.15,  -eta, color='0.7' , linewidth=line_w, marker='.', markersize=marker_s)\n",
    "ax[2].set_xticks([-4,-2])\n",
    "ax[2].set_xlabel('$T_{mean}$ [$^\\circ$C]')\n",
    "\n",
    "\n",
    "ax[3].plot(T_max_H.values-273.15  ,  -eta, color='k'   , linewidth=line_w, marker='.', markersize=marker_s)\n",
    "ax[3].plot(T_max_D.values-273.15  ,  -eta, color='0.55', linewidth=line_w, marker='.', markersize=marker_s)\n",
    "ax[3].plot(T_max_10D.values-273.15,  -eta, color='0.7' , linewidth=line_w, marker='.', markersize=marker_s)\n",
    "ax[3].set_xlabel('$T_{max}$ [$^\\circ$C]')\n",
    "\n",
    "# line_w_1 = 0.7\n",
    "# line_w = 0.2\n",
    "# marker_s = 0.8\n",
    "lns1 = plt.plot(np.nan,np.nan, color='#74add1'  , linewidth=line_w_1, marker='.', markersize=0.      , label='min')\n",
    "lns2 = plt.plot(np.nan,np.nan, color='k'        , linewidth=line_w  , marker='.', markersize=marker_s, label='Hourly')\n",
    "lns3 = plt.plot(np.nan,np.nan, color='0.35'     , linewidth=line_w_1, marker='.', markersize=0.      , label='mean')\n",
    "lns4 = plt.plot(np.nan,np.nan, color='0.4'      , linewidth=line_w  , marker='.', markersize=marker_s, label='Daily')\n",
    "lns5 = plt.plot(np.nan,np.nan, color='#d73027'  , linewidth=line_w_1, marker='.', markersize=0.      , label='max')\n",
    "lns6 = plt.plot(np.nan,np.nan, color='0.7'      , linewidth=line_w  , marker='.', markersize=marker_s, label='10 days')\n",
    "\n",
    "\n",
    "lns = lns1+lns2+lns3+lns4+lns5+lns6\n",
    "labs = [l.get_label() for l in lns]\n",
    "ax[0].legend(lns, labs, bbox_to_anchor=(0.65,1.01), ncol=3, loc='lower left', frameon=True)\n",
    "\n",
    "plt.text( 0.05,0.05, '(a)', fontsize=12,\n",
    "             transform=ax[0].transAxes)\n",
    "plt.text( 0.05,0.05, '(b)', fontsize=12,\n",
    "             transform=ax[1].transAxes)\n",
    "plt.text( 0.65,0.05, '(c)', fontsize=12,\n",
    "             transform=ax[2].transAxes)\n",
    "plt.text( 0.65,0.05, '(d)', fontsize=12,\n",
    "             transform=ax[3].transAxes)\n",
    "\n",
    "plt.show()"
   ]
  },
  {
   "cell_type": "markdown",
   "metadata": {},
   "source": [
    "Looking at (a) the envelope of the maximum temperature present an 'elbow' that can be explained with the zero-curtain effect"
   ]
  },
  {
   "cell_type": "code",
   "execution_count": null,
   "metadata": {},
   "outputs": [],
   "source": [
    "\n",
    "line_w = 1.3\n",
    "fig, ax = plt.subplots(1, 1, figsize=(plot_width,plot_width/1.618))\n",
    "start_date = '2001-01-01'\n",
    "end_date = '2002-01-01'\n",
    "plt.plot(ds_H.time.sel(time=slice(start_date,end_date)),ds_H.T.sel(z=18.5,method='nearest').sel(time=slice(start_date,end_date))-273.15, linewidth= line_w, color='k')\n",
    "ax.xaxis.set_major_formatter(mdates.DateFormatter('%y-%m'))\n",
    "\n",
    "ax.annotate(s='zero-curtain\\n effect', fontsize=14, xy=(datetime.date(2001,10,26),-0.2), xytext=(datetime.date(2001,8,1),-5),arrowprops={'arrowstyle':'->','lw': 0.5, 'ec': 'k'},va='center')\n",
    "plt.axhline(0.0,linewidth=line_w, linestyle='--',color='0.5')\n",
    "ax.set_ylim(-14,2)\n",
    "\n",
    "plt.ylabel('$T$ [$^\\circ$C]')\n",
    "plt.xlabel('Time [mm-dd]')\n",
    "\n",
    "plt.show()"
   ]
  },
  {
   "cell_type": "markdown",
   "metadata": {},
   "source": [
    "## Temperature evolope for the three simulations considering $\\lambda_w=\\lambda_i$"
   ]
  },
  {
   "cell_type": "code",
   "execution_count": null,
   "metadata": {},
   "outputs": [],
   "source": []
  },
  {
   "cell_type": "code",
   "execution_count": null,
   "metadata": {},
   "outputs": [],
   "source": []
  }
 ],
 "metadata": {
  "kernelspec": {
   "display_name": "Python 3",
   "language": "python",
   "name": "python3"
  },
  "language_info": {
   "codemirror_mode": {
    "name": "ipython",
    "version": 3
   },
   "file_extension": ".py",
   "mimetype": "text/x-python",
   "name": "python",
   "nbconvert_exporter": "python",
   "pygments_lexer": "ipython3",
   "version": "3.7.7"
  }
 },
 "nbformat": 4,
 "nbformat_minor": 4
}
