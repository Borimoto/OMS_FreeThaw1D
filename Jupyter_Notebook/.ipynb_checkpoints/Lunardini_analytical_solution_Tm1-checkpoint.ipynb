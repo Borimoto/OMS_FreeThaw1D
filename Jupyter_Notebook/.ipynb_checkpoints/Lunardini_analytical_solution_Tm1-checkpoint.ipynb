{
 "cells": [
  {
   "cell_type": "markdown",
   "metadata": {},
   "source": [
    "# Lunardini analytial solution  $T_m=-1$ [C]\n",
    "\n",
    "- McKenzie et al. 2007 for formula\n",
    "- InterFrost test case 1 for parameters\n"
   ]
  },
  {
   "cell_type": "code",
   "execution_count": 1,
   "metadata": {},
   "outputs": [
    {
     "name": "stderr",
     "output_type": "stream",
     "text": [
      "C:\\Users\\Niccolo\\Anaconda3\\envs\\geoframe_vicenza\\lib\\site-packages\\xarray\\core\\merge.py:17: FutureWarning: The Panel class is removed from pandas. Accessing it from the top-level namespace will also be removed in the next version\n",
      "  PANDAS_TYPES = (pd.Series, pd.DataFrame, pd.Panel)\n"
     ]
    }
   ],
   "source": [
    "import os\n",
    "import pandas as pd\n",
    "import numpy as np\n",
    "import matplotlib.pyplot as plt\n",
    "import matplotlib.dates as mdates\n",
    "from matplotlib import rc\n",
    "%matplotlib inline\n",
    "import matplotlib.style as style \n",
    "import math\n",
    "import xarray as xr\n",
    "from my_plot import set_size\n",
    "width = 345.0\n",
    "import warnings\n",
    "warnings.filterwarnings('ignore')\n",
    "\n",
    "style.available\n",
    "# style.use('seaborn-poster') #sets the size of the charts\n",
    "# style.use('ggplot')\n",
    "style.use('seaborn-whitegrid')\n",
    "#################\n",
    "# LaTeX font #\n",
    "# if LaTeX is not installed comment the following lines\n",
    "#################\n",
    "\n",
    "# plt.rc('xtick', labelsize=20)\n",
    "# plt.rc('ytick', labelsize=20)\n",
    "# plt.rc('axes', labelsize=28)\n",
    "# plt.rc('axes', titlesize=28)\n",
    "# plt.rc('legend', fontsize=25)\n",
    "# plt.rc('lines', linewidth=1.2)\n",
    "\n",
    "# plt.rc('savefig', dpi = 300)\n",
    "# plt.rc('legend', title_fontsize = 25)\n",
    "# plt.rc('legend', facecolor = 'inherit')\n",
    "\n",
    "# font = {'family' : 'sans-serif'}#,'weight' : 'normal'}#,'size'   : 25}\n",
    "# plt.rc('font', **font)\n",
    "# plt.rc('font', **font)\n",
    "# plt.rc('text', usetex=True)\n",
    "# rc('text.latex')#, preamble=r'\\usepackage{fontenc}')\n",
    "# rc('font',**{'family':'serif','sans-serif':['Computer Modern Roman']})\n",
    "\n",
    "\n",
    "nice_fonts = {\n",
    "        # Use LaTeX to write all text\n",
    "        \"text.usetex\": True,\n",
    "        \"font.family\": \"serif\",\n",
    "        # Use 10pt font in plots, to match 10pt font in document\n",
    "        \"axes.labelsize\": 10,\n",
    "        \"font.size\": 10,\n",
    "        # Make the legend/label fonts a little smaller\n",
    "        \"legend.fontsize\": 8,\n",
    "        \"xtick.labelsize\": 8,\n",
    "        \"ytick.labelsize\": 8,\n",
    "}\n",
    "\n",
    "plt.rcParams.update(nice_fonts)\n",
    "\n",
    "oms_project_path = os.path.dirname(os.getcwd())\n",
    "plot_folder = (oms_project_path+'/plots/NeumannAnalyticalSolution')"
   ]
  },
  {
   "cell_type": "code",
   "execution_count": 2,
   "metadata": {},
   "outputs": [],
   "source": [
    "# style.available"
   ]
  },
  {
   "cell_type": "code",
   "execution_count": 3,
   "metadata": {},
   "outputs": [],
   "source": [
    "os.chdir(oms_project_path+'/output')\n"
   ]
  },
  {
   "cell_type": "code",
   "execution_count": 4,
   "metadata": {},
   "outputs": [
    {
     "name": "stdout",
     "output_type": "stream",
     "text": [
      "read\n",
      "read\n",
      "read\n"
     ]
    }
   ],
   "source": [
    "with xr.open_dataset('LunardiniAnalytical_minus_1C_300s.nc', engine='scipy') as ds_5min:\n",
    "    print('read')\n",
    "    \n",
    "with xr.open_dataset('LunardiniAnalytical_minus_1C_900s.nc', engine='scipy') as ds_15min:\n",
    "    print('read')\n",
    "    \n",
    "with xr.open_dataset('LunardiniAnalytical_minus_1C_3600s.nc', engine='scipy') as ds_60min:\n",
    "    print('read')"
   ]
  },
  {
   "cell_type": "code",
   "execution_count": 5,
   "metadata": {},
   "outputs": [],
   "source": [
    "## Interfrost Test case 1 -1\n",
    "T0 = 4\n",
    "Ts = -6\n",
    "Tf = 0\n",
    "Tm = -1#-4 #-1\n",
    "k1 = 3.462696\n",
    "k2 = 2.939946\n",
    "k3 = 2.417196\n",
    "C1 = 690030\n",
    "C2 = 690030\n",
    "C3 = 690030\n",
    "xif = 0.0782\n",
    "xi0 = 0.2\n",
    "delta_xi = xi0-xif\n",
    "Lf = 334560\n",
    "gamma_d = 1680\n",
    "gamma = 2.060039 # 2.062\n",
    "psi = 0.137387 # 0.1375\n",
    "\n",
    "alpha1 = k1/C1\n",
    "alpha3 = k3/C3\n",
    "alpha4 = k2/(C2+gamma_d*Lf*delta_xi/(Tf-Tm))\n",
    "\n",
    "\n",
    "############\n",
    "# TMAX = 100*24 #2137\n",
    "xx = ds_5min.z.values[:]\n",
    "IMAX = len(xx)\n",
    "\n",
    "# xx = np.linspace(xL,xR,IMAX)\n",
    "# x = ds.z.values[0,:]\n",
    "# days = np.zeros(TMAX)\n",
    "T = np.zeros(IMAX)\n",
    "T_ice = np.zeros(IMAX)\n",
    "T_mushy = np.zeros(IMAX)\n",
    "T_liquidus = np.zeros(IMAX)\n",
    "x_ice = np.zeros(IMAX)\n",
    "x_mushy = np.zeros(IMAX)\n",
    "x_liquidus = np.zeros(IMAX)\n",
    "\n",
    "\n",
    "# solution at time t\n",
    "time_12h = 12*3600\n",
    "time_24h = 24*3600\n",
    "time_36h = 36*3600\n",
    "time_48h = 48*3600\n",
    "T_12h = np.zeros(IMAX)\n",
    "T_24h = np.zeros(IMAX)\n",
    "T_36h = np.zeros(IMAX)\n",
    "T_48h = np.zeros(IMAX)\n",
    "\n",
    "\n",
    "freezing_front = np.zeros(60*60*24*2)\n",
    "\n",
    "def T1_fun(time,x):\n",
    "    return (Tm-Ts) * (math.erf(x/(2*np.sqrt(alpha1*time))))/(math.erf(psi)) + Ts\n",
    "def T2_fun(time,x):\n",
    "    return -(Tm-Tf) * ( math.erf(x/(2*np.sqrt(alpha4*time))) - math.erf(gamma) ) / ( math.erf(gamma)-(math.erf(psi*np.sqrt(alpha1/alpha4)) ) ) + Tf\n",
    "def T3_fun(time,x):\n",
    "    return (T0-Tf) * (-math.erfc(x/(2*np.sqrt(alpha3*time)))/(math.erfc(gamma*np.sqrt(alpha4/alpha3)))) + T0\n",
    "\n",
    "def Lunardini_sol(time,xx):\n",
    "    \n",
    "    T = np.zeros(IMAX)\n",
    "    x1 = 2*psi*np.sqrt(alpha1*time)\n",
    "    x = 2*gamma*np.sqrt(alpha4*time)\n",
    "#     print(x1)\n",
    "#     print(x)\n",
    "    for i in range(0,IMAX):\n",
    "        if(xx[i]<x1):\n",
    "            x_ice[i] = xx[i]\n",
    "            x_mushy[i] = np.nan\n",
    "            x_liquidus[i] = np.nan\n",
    "            \n",
    "            T[i] = T1_fun(time,xx[i]) # ok\n",
    "    #         T_ice[i] = T[i]\n",
    "    #         T_mushy = np.nan\n",
    "    #         T_liquidus = np.nan\n",
    "        elif(x1<=xx[i]<x):\n",
    "            x_ice[i] = np.nan\n",
    "            x_mushy[i] = xx[i]\n",
    "            x_liquidus[i] = np.nan\n",
    "            \n",
    "            T[i] = T2_fun(time,xx[i]) # ok\n",
    "    #         T_ice[i] = np.nan\n",
    "    #         T_mushy = T[i]\n",
    "    #         T_liquidus = np.nan\n",
    "        else:\n",
    "            x_ice[i] = np.nan\n",
    "            x_mushy[i] = np.nan\n",
    "            x_liquidus[i] = xx[i]\n",
    "            T[i] = T3_fun(time,xx[i]) # ok\n",
    "    \n",
    "    return T"
   ]
  },
  {
   "cell_type": "code",
   "execution_count": 6,
   "metadata": {},
   "outputs": [
    {
     "data": {
      "text/plain": [
       "5.0181818181818186e-06"
      ]
     },
     "execution_count": 6,
     "metadata": {},
     "output_type": "execute_result"
    }
   ],
   "source": [
    "alpha1"
   ]
  },
  {
   "cell_type": "code",
   "execution_count": 7,
   "metadata": {},
   "outputs": [],
   "source": [
    "T_12h = Lunardini_sol(3600*12,xx)\n",
    "T_24h = Lunardini_sol(3600*24,xx)\n",
    "T_36h = Lunardini_sol(3600*36,xx)\n",
    "T_48h = Lunardini_sol(3600*48,xx)\n",
    "T_72h = Lunardini_sol(3600*72,xx)\n",
    "# plt.plot(xx[i_0:i_1]*100,T_12h[i_0:i_1],'k-', label='Analytical')\n",
    "# plt.plot(xx[i_0:i_1]*100,T_24h[i_0:i_1],'k-', label='Analytical')"
   ]
  },
  {
   "cell_type": "code",
   "execution_count": 8,
   "metadata": {},
   "outputs": [
    {
     "data": {
      "text/plain": [
       "0.0828565988716976"
      ]
     },
     "execution_count": 8,
     "metadata": {},
     "output_type": "execute_result"
    }
   ],
   "source": [
    "max(abs(T_24h[0:100]-(ds_60min.T.values[24-1,0:100]-273.15)))"
   ]
  },
  {
   "cell_type": "code",
   "execution_count": 9,
   "metadata": {},
   "outputs": [
    {
     "data": {
      "text/plain": [
       "0.024479239734433555"
      ]
     },
     "execution_count": 9,
     "metadata": {},
     "output_type": "execute_result"
    }
   ],
   "source": [
    "max(abs(T_24h[0:100]-(ds_15min.T.values[24*4-1,0:100]-273.15)))"
   ]
  },
  {
   "cell_type": "code",
   "execution_count": 10,
   "metadata": {},
   "outputs": [
    {
     "data": {
      "text/plain": [
       "0.014194555030429434"
      ]
     },
     "execution_count": 10,
     "metadata": {},
     "output_type": "execute_result"
    }
   ],
   "source": [
    "max(abs(T_24h[0:100]-(ds_5min.T.values[24*4*3-1,0:100]-273.15)))"
   ]
  },
  {
   "cell_type": "code",
   "execution_count": null,
   "metadata": {},
   "outputs": [],
   "source": [
    "# plt.plot(abs(T_24h[0:100]-(ds_5min.T.values[24*12,0:100]-273.15)))\n",
    "# plt.plot(abs(T_24h[0:100]-(ds_15min.T.values[24*4,0:100]-273.15)))\n",
    "# plt.plot(abs(T_24h[0:100]-(ds_60min.T.values[24,0:100]-273.15)))"
   ]
  },
  {
   "cell_type": "code",
   "execution_count": 28,
   "metadata": {},
   "outputs": [],
   "source": [
    "def Lunardini_zero_isotherm(time, dt, gamma, alpha4):\n",
    "    \n",
    "    z_zero_isotherm = np.zeros(len(time))\n",
    "    num_seconds = np.zeros(len(time))\n",
    "    \n",
    "    for t in range(0,len(time)):\n",
    "    \n",
    "        num_seconds[t] = dt*(t+1)\n",
    "        z_zero_isotherm[t] = 2*gamma*np.sqrt(alpha4*num_seconds[t])\n",
    "        \n",
    "    return [z_zero_isotherm, num_seconds]\n",
    "\n",
    "def zero_isotherm(time, dt, T, z):\n",
    "    \n",
    "    num_z_zero_isotherm = np.zeros(len(time))\n",
    "    num_seconds = np.zeros(len(time))\n",
    "    T = np.round(T,6)\n",
    "    z = np.round(z,6)\n",
    "    for t in range(0,len(time)):\n",
    "    \n",
    "        num_seconds[t] = dt*(t+1)\n",
    "        for k in range(0,len(T)):\n",
    "            if T[t,k]>=273.15:\n",
    "    #             num_freezing_front[t] = ds.z.values[0,k]\n",
    "                m =  (T[t,k]-T[t,k-1])/(z[k]-z[k-1])\n",
    "                q = T[t,k]  - m*z[k] \n",
    "                num_z_zero_isotherm[t] = (273.15 - T[t,k] + m*z[k])/m\n",
    "                break\n",
    "            else:\n",
    "                num_z_zero_isotherm[t] = 0\n",
    "    \n",
    "    return [num_z_zero_isotherm, num_seconds]"
   ]
  },
  {
   "cell_type": "code",
   "execution_count": 29,
   "metadata": {},
   "outputs": [],
   "source": [
    "[freezing_front_5min, num_time_sec] = Lunardini_zero_isotherm(ds_5min.time.values, 300, gamma, alpha4)\n",
    "[freezing_front_15min, num_time_sec] = Lunardini_zero_isotherm(ds_15min.time.values, 900, gamma, alpha4)\n",
    "[freezing_front_60min, num_time_sec] = Lunardini_zero_isotherm(ds_60min.time.values, 3600, gamma, alpha4)\n",
    "\n",
    "[num_freezing_front_5min, num_time_sec] = zero_isotherm(ds_5min.time.values, 300, ds_5min.T.values, ds_5min.z.values)\n",
    "[num_freezing_front_15min, num_time_sec] = zero_isotherm(ds_15min.time.values, 900, ds_15min.T.values, ds_15min.z.values)\n",
    "[num_freezing_front_60min, num_time_sec] = zero_isotherm(ds_60min.time.values, 3600, ds_60min.T.values, ds_60min.z.values)\n"
   ]
  },
  {
   "cell_type": "code",
   "execution_count": 30,
   "metadata": {},
   "outputs": [],
   "source": [
    "x = 2*gamma*np.sqrt(alpha4*86400)"
   ]
  },
  {
   "cell_type": "code",
   "execution_count": 31,
   "metadata": {},
   "outputs": [
    {
     "data": {
      "text/plain": [
       "0.0005058407875102866"
      ]
     },
     "execution_count": 31,
     "metadata": {},
     "output_type": "execute_result"
    }
   ],
   "source": [
    "abs(num_freezing_front_5min[24*3*4-1]-x)"
   ]
  },
  {
   "cell_type": "code",
   "execution_count": 32,
   "metadata": {},
   "outputs": [
    {
     "data": {
      "text/plain": [
       "0.00027292623922464676"
      ]
     },
     "execution_count": 32,
     "metadata": {},
     "output_type": "execute_result"
    }
   ],
   "source": [
    "abs(num_freezing_front_15min[24*4-1]-x)"
   ]
  },
  {
   "cell_type": "code",
   "execution_count": 33,
   "metadata": {},
   "outputs": [
    {
     "data": {
      "text/plain": [
       "0.0005780552238534575"
      ]
     },
     "execution_count": 33,
     "metadata": {},
     "output_type": "execute_result"
    }
   ],
   "source": [
    "abs(num_freezing_front_60min[24-1]-x)"
   ]
  },
  {
   "cell_type": "code",
   "execution_count": null,
   "metadata": {},
   "outputs": [],
   "source": []
  }
 ],
 "metadata": {
  "kernelspec": {
   "display_name": "Python 3",
   "language": "python",
   "name": "python3"
  },
  "language_info": {
   "codemirror_mode": {
    "name": "ipython",
    "version": 3
   },
   "file_extension": ".py",
   "mimetype": "text/x-python",
   "name": "python",
   "nbconvert_exporter": "python",
   "pygments_lexer": "ipython3",
   "version": "3.7.7"
  }
 },
 "nbformat": 4,
 "nbformat_minor": 4
}
